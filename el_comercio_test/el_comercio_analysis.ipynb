{
 "cells": [
  {
   "cell_type": "markdown",
   "metadata": {},
   "source": [
    "## 1. Recolección de datos"
   ]
  },
  {
   "cell_type": "code",
   "execution_count": 23,
   "metadata": {},
   "outputs": [
    {
     "name": "stderr",
     "output_type": "stream",
     "text": [
      "[nltk_data] Downloading package stopwords to /home/carlos/nltk_data...\n",
      "[nltk_data]   Package stopwords is already up-to-date!\n",
      "[nltk_data] Downloading package punkt to /home/carlos/nltk_data...\n",
      "[nltk_data]   Package punkt is already up-to-date!\n"
     ]
    },
    {
     "data": {
      "text/plain": [
       "True"
      ]
     },
     "execution_count": 23,
     "metadata": {},
     "output_type": "execute_result"
    }
   ],
   "source": [
    "import pandas as pd\n",
    "import numpy as pn\n",
    "import ast\n",
    "import string  \n",
    "from nltk.corpus import stopwords\n",
    "import nltk\n",
    "nltk.download('stopwords')\n",
    "nltk.download('punkt')"
   ]
  },
  {
   "cell_type": "code",
   "execution_count": 24,
   "metadata": {},
   "outputs": [],
   "source": [
    "data = pd.read_csv('el_comercio_test.csv', encoding='utf-8')"
   ]
  },
  {
   "cell_type": "markdown",
   "metadata": {},
   "source": [
    "## 2. Análisis de la exploración de datos"
   ]
  },
  {
   "cell_type": "code",
   "execution_count": 25,
   "metadata": {},
   "outputs": [
    {
     "data": {
      "text/html": [
       "<div>\n",
       "<style scoped>\n",
       "    .dataframe tbody tr th:only-of-type {\n",
       "        vertical-align: middle;\n",
       "    }\n",
       "\n",
       "    .dataframe tbody tr th {\n",
       "        vertical-align: top;\n",
       "    }\n",
       "\n",
       "    .dataframe thead th {\n",
       "        text-align: right;\n",
       "    }\n",
       "</style>\n",
       "<table border=\"1\" class=\"dataframe\">\n",
       "  <thead>\n",
       "    <tr style=\"text-align: right;\">\n",
       "      <th></th>\n",
       "      <th>Titulo</th>\n",
       "      <th>Resumen</th>\n",
       "      <th>Categoria</th>\n",
       "      <th>Autor</th>\n",
       "      <th>Fecha</th>\n",
       "      <th>Contenido</th>\n",
       "      <th>Etiquetas</th>\n",
       "      <th>Enlace</th>\n",
       "      <th>Fuente</th>\n",
       "    </tr>\n",
       "  </thead>\n",
       "  <tbody>\n",
       "    <tr>\n",
       "      <th>0</th>\n",
       "      <td>[AHORA] América vs. Pumas UNAM EN VIVO transmi...</td>\n",
       "      <td>\\nAmérica vs. Pumas UNAM EN VIVO | ONLINE sigu...</td>\n",
       "      <td>Fútbol mundial</td>\n",
       "      <td>Redacción DT</td>\n",
       "      <td>2019-09-14T22:51:00-05:00</td>\n",
       "      <td>['América vs. Pumas UNAM EN VIVO | ONLINE sigu...</td>\n",
       "      <td>['América', 'Liga MX', 'Pumas UNAM']</td>\n",
       "      <td>https://elcomercio.pe/deporte-total/futbol-mun...</td>\n",
       "      <td>El Comercio</td>\n",
       "    </tr>\n",
       "    <tr>\n",
       "      <th>1</th>\n",
       "      <td>América vs. Pumas UNAM: Sebastián Córdova fue ...</td>\n",
       "      <td>Juan Pablo Vigón fue el jugador de Pumas UNAM ...</td>\n",
       "      <td>Fútbol mundial</td>\n",
       "      <td>Redacción DT</td>\n",
       "      <td>2019-09-14T22:50:19-05:00</td>\n",
       "      <td>[\"El choque entre América y Pumas UNAM se desv...</td>\n",
       "      <td>['América de México', 'Pumas UNAM', 'Liga MX 2...</td>\n",
       "      <td>https://elcomercio.pe/deporte-total/futbol-mun...</td>\n",
       "      <td>El Comercio</td>\n",
       "    </tr>\n",
       "    <tr>\n",
       "      <th>2</th>\n",
       "      <td>[EN VIVO] América vs. Pumas UNAM VER AQUÍ EN D...</td>\n",
       "      <td>\\nAmérica vs. Pumas EN VIVO EN DIRECTO | Sigue...</td>\n",
       "      <td>Fútbol mundial</td>\n",
       "      <td>Redacción DT</td>\n",
       "      <td>2019-09-14T22:50:00-05:00</td>\n",
       "      <td>['América vs. Pumas EN VIVO EN DIRECTO se mide...</td>\n",
       "      <td>['América', 'Liga MX', 'Pumas UNAM']</td>\n",
       "      <td>https://elcomercio.pe/deporte-total/futbol-mun...</td>\n",
       "      <td>El Comercio</td>\n",
       "    </tr>\n",
       "    <tr>\n",
       "      <th>3</th>\n",
       "      <td>Keiko Fujimori fue internada en clínica local ...</td>\n",
       "      <td>Información fue confirmada por su abogada Giul...</td>\n",
       "      <td>Política</td>\n",
       "      <td>None</td>\n",
       "      <td>2019-09-14T22:43:07-05:00</td>\n",
       "      <td>['La lideresa de Fuerza Popular, Keiko Fujimor...</td>\n",
       "      <td>['Keiko Fujimori']</td>\n",
       "      <td>https://elcomercio.pe/politica/keiko-fujimori-...</td>\n",
       "      <td>El Comercio</td>\n",
       "    </tr>\n",
       "    <tr>\n",
       "      <th>4</th>\n",
       "      <td>Sporting Cristal vs. Municipal: duelo por la j...</td>\n",
       "      <td>\\nSporting Cristal visita este domingo (04:00 ...</td>\n",
       "      <td>Fútbol peruano</td>\n",
       "      <td>Redacción DT</td>\n",
       "      <td>2019-09-14T22:35:41-05:00</td>\n",
       "      <td>['Sporting Cristal vs. Municipal EN VIVO ONLIN...</td>\n",
       "      <td>['Liga 1', 'Sporting Cristal', 'Deportivo Muni...</td>\n",
       "      <td>https://elcomercio.pe/deporte-total/futbol-per...</td>\n",
       "      <td>El Comercio</td>\n",
       "    </tr>\n",
       "  </tbody>\n",
       "</table>\n",
       "</div>"
      ],
      "text/plain": [
       "                                              Titulo  \\\n",
       "0  [AHORA] América vs. Pumas UNAM EN VIVO transmi...   \n",
       "1  América vs. Pumas UNAM: Sebastián Córdova fue ...   \n",
       "2  [EN VIVO] América vs. Pumas UNAM VER AQUÍ EN D...   \n",
       "3  Keiko Fujimori fue internada en clínica local ...   \n",
       "4  Sporting Cristal vs. Municipal: duelo por la j...   \n",
       "\n",
       "                                             Resumen       Categoria  \\\n",
       "0  \\nAmérica vs. Pumas UNAM EN VIVO | ONLINE sigu...  Fútbol mundial   \n",
       "1  Juan Pablo Vigón fue el jugador de Pumas UNAM ...  Fútbol mundial   \n",
       "2  \\nAmérica vs. Pumas EN VIVO EN DIRECTO | Sigue...  Fútbol mundial   \n",
       "3  Información fue confirmada por su abogada Giul...        Política   \n",
       "4  \\nSporting Cristal visita este domingo (04:00 ...  Fútbol peruano   \n",
       "\n",
       "             Autor                      Fecha  \\\n",
       "0    Redacción DT   2019-09-14T22:51:00-05:00   \n",
       "1    Redacción DT   2019-09-14T22:50:19-05:00   \n",
       "2    Redacción DT   2019-09-14T22:50:00-05:00   \n",
       "3             None  2019-09-14T22:43:07-05:00   \n",
       "4    Redacción DT   2019-09-14T22:35:41-05:00   \n",
       "\n",
       "                                           Contenido  \\\n",
       "0  ['América vs. Pumas UNAM EN VIVO | ONLINE sigu...   \n",
       "1  [\"El choque entre América y Pumas UNAM se desv...   \n",
       "2  ['América vs. Pumas EN VIVO EN DIRECTO se mide...   \n",
       "3  ['La lideresa de Fuerza Popular, Keiko Fujimor...   \n",
       "4  ['Sporting Cristal vs. Municipal EN VIVO ONLIN...   \n",
       "\n",
       "                                           Etiquetas  \\\n",
       "0               ['América', 'Liga MX', 'Pumas UNAM']   \n",
       "1  ['América de México', 'Pumas UNAM', 'Liga MX 2...   \n",
       "2               ['América', 'Liga MX', 'Pumas UNAM']   \n",
       "3                                 ['Keiko Fujimori']   \n",
       "4  ['Liga 1', 'Sporting Cristal', 'Deportivo Muni...   \n",
       "\n",
       "                                              Enlace       Fuente  \n",
       "0  https://elcomercio.pe/deporte-total/futbol-mun...  El Comercio  \n",
       "1  https://elcomercio.pe/deporte-total/futbol-mun...  El Comercio  \n",
       "2  https://elcomercio.pe/deporte-total/futbol-mun...  El Comercio  \n",
       "3  https://elcomercio.pe/politica/keiko-fujimori-...  El Comercio  \n",
       "4  https://elcomercio.pe/deporte-total/futbol-per...  El Comercio  "
      ]
     },
     "execution_count": 25,
     "metadata": {},
     "output_type": "execute_result"
    }
   ],
   "source": [
    "data.head()"
   ]
  },
  {
   "cell_type": "markdown",
   "metadata": {},
   "source": [
    "#### Diccionario de datos\n",
    "- Titulo       \n",
    "- Resumen\n",
    "- Categoria \t\n",
    "- Fecha\n",
    "- Contenido\n",
    "- Etiquetas\n",
    "- Enlace\n",
    "- Fuente"
   ]
  },
  {
   "cell_type": "markdown",
   "metadata": {},
   "source": [
    "#### Total de columnas y filas"
   ]
  },
  {
   "cell_type": "code",
   "execution_count": 26,
   "metadata": {},
   "outputs": [
    {
     "data": {
      "text/plain": [
       "(300, 9)"
      ]
     },
     "execution_count": 26,
     "metadata": {},
     "output_type": "execute_result"
    }
   ],
   "source": [
    "data.shape"
   ]
  },
  {
   "cell_type": "markdown",
   "metadata": {},
   "source": [
    "#### Ver la información del conjunto de datos"
   ]
  },
  {
   "cell_type": "code",
   "execution_count": 27,
   "metadata": {},
   "outputs": [
    {
     "name": "stdout",
     "output_type": "stream",
     "text": [
      "<class 'pandas.core.frame.DataFrame'>\n",
      "RangeIndex: 300 entries, 0 to 299\n",
      "Data columns (total 9 columns):\n",
      "Titulo       300 non-null object\n",
      "Resumen      300 non-null object\n",
      "Categoria    300 non-null object\n",
      "Autor        300 non-null object\n",
      "Fecha        300 non-null object\n",
      "Contenido    300 non-null object\n",
      "Etiquetas    300 non-null object\n",
      "Enlace       300 non-null object\n",
      "Fuente       300 non-null object\n",
      "dtypes: object(9)\n",
      "memory usage: 21.2+ KB\n"
     ]
    }
   ],
   "source": [
    "data.info()"
   ]
  },
  {
   "cell_type": "markdown",
   "metadata": {},
   "source": [
    "## 3. Procesamiento de datos"
   ]
  },
  {
   "cell_type": "code",
   "execution_count": 28,
   "metadata": {},
   "outputs": [],
   "source": [
    "data = data.drop([\"Resumen\", \"Categoria\", \"Autor\", \"Etiquetas\", \"Enlace\"], axis=1)"
   ]
  },
  {
   "cell_type": "code",
   "execution_count": 29,
   "metadata": {},
   "outputs": [
    {
     "data": {
      "text/html": [
       "<div>\n",
       "<style scoped>\n",
       "    .dataframe tbody tr th:only-of-type {\n",
       "        vertical-align: middle;\n",
       "    }\n",
       "\n",
       "    .dataframe tbody tr th {\n",
       "        vertical-align: top;\n",
       "    }\n",
       "\n",
       "    .dataframe thead th {\n",
       "        text-align: right;\n",
       "    }\n",
       "</style>\n",
       "<table border=\"1\" class=\"dataframe\">\n",
       "  <thead>\n",
       "    <tr style=\"text-align: right;\">\n",
       "      <th></th>\n",
       "      <th>Titulo</th>\n",
       "      <th>Fecha</th>\n",
       "      <th>Contenido</th>\n",
       "      <th>Fuente</th>\n",
       "    </tr>\n",
       "  </thead>\n",
       "  <tbody>\n",
       "    <tr>\n",
       "      <th>0</th>\n",
       "      <td>[AHORA] América vs. Pumas UNAM EN VIVO transmi...</td>\n",
       "      <td>2019-09-14T22:51:00-05:00</td>\n",
       "      <td>['América vs. Pumas UNAM EN VIVO | ONLINE sigu...</td>\n",
       "      <td>El Comercio</td>\n",
       "    </tr>\n",
       "    <tr>\n",
       "      <th>1</th>\n",
       "      <td>América vs. Pumas UNAM: Sebastián Córdova fue ...</td>\n",
       "      <td>2019-09-14T22:50:19-05:00</td>\n",
       "      <td>[\"El choque entre América y Pumas UNAM se desv...</td>\n",
       "      <td>El Comercio</td>\n",
       "    </tr>\n",
       "    <tr>\n",
       "      <th>2</th>\n",
       "      <td>[EN VIVO] América vs. Pumas UNAM VER AQUÍ EN D...</td>\n",
       "      <td>2019-09-14T22:50:00-05:00</td>\n",
       "      <td>['América vs. Pumas EN VIVO EN DIRECTO se mide...</td>\n",
       "      <td>El Comercio</td>\n",
       "    </tr>\n",
       "    <tr>\n",
       "      <th>3</th>\n",
       "      <td>Keiko Fujimori fue internada en clínica local ...</td>\n",
       "      <td>2019-09-14T22:43:07-05:00</td>\n",
       "      <td>['La lideresa de Fuerza Popular, Keiko Fujimor...</td>\n",
       "      <td>El Comercio</td>\n",
       "    </tr>\n",
       "    <tr>\n",
       "      <th>4</th>\n",
       "      <td>Sporting Cristal vs. Municipal: duelo por la j...</td>\n",
       "      <td>2019-09-14T22:35:41-05:00</td>\n",
       "      <td>['Sporting Cristal vs. Municipal EN VIVO ONLIN...</td>\n",
       "      <td>El Comercio</td>\n",
       "    </tr>\n",
       "  </tbody>\n",
       "</table>\n",
       "</div>"
      ],
      "text/plain": [
       "                                              Titulo  \\\n",
       "0  [AHORA] América vs. Pumas UNAM EN VIVO transmi...   \n",
       "1  América vs. Pumas UNAM: Sebastián Córdova fue ...   \n",
       "2  [EN VIVO] América vs. Pumas UNAM VER AQUÍ EN D...   \n",
       "3  Keiko Fujimori fue internada en clínica local ...   \n",
       "4  Sporting Cristal vs. Municipal: duelo por la j...   \n",
       "\n",
       "                       Fecha  \\\n",
       "0  2019-09-14T22:51:00-05:00   \n",
       "1  2019-09-14T22:50:19-05:00   \n",
       "2  2019-09-14T22:50:00-05:00   \n",
       "3  2019-09-14T22:43:07-05:00   \n",
       "4  2019-09-14T22:35:41-05:00   \n",
       "\n",
       "                                           Contenido       Fuente  \n",
       "0  ['América vs. Pumas UNAM EN VIVO | ONLINE sigu...  El Comercio  \n",
       "1  [\"El choque entre América y Pumas UNAM se desv...  El Comercio  \n",
       "2  ['América vs. Pumas EN VIVO EN DIRECTO se mide...  El Comercio  \n",
       "3  ['La lideresa de Fuerza Popular, Keiko Fujimor...  El Comercio  \n",
       "4  ['Sporting Cristal vs. Municipal EN VIVO ONLIN...  El Comercio  "
      ]
     },
     "execution_count": 29,
     "metadata": {},
     "output_type": "execute_result"
    }
   ],
   "source": [
    "data.head()"
   ]
  },
  {
   "cell_type": "markdown",
   "metadata": {},
   "source": [
    "#### Palabras a eliminar\n",
    "- EN VIVO       \n",
    "- ONLINE\n",
    "- | \t\n",
    "- EN DIRECTO\n",
    "- SEGUIR AQUÍ\n",
    "- LA PREVIA\n",
    "- sigue el minuto a minuto\n",
    "- VER GRATIS\n",
    "- CANAL DE LAS ESTRELLAS\n",
    "- SEGUIR EN DIRECTO"
   ]
  },
  {
   "cell_type": "code",
   "execution_count": 30,
   "metadata": {},
   "outputs": [],
   "source": [
    "stop_words_spanish = stopwords.words('spanish')"
   ]
  },
  {
   "cell_type": "code",
   "execution_count": 9,
   "metadata": {},
   "outputs": [],
   "source": [
    "word_to_delete = [\n",
    "    'EN VIVO',\n",
    "    'EN DIRECTO',\n",
    "    'ONLINE',\n",
    "    '|',\n",
    "    'SEGUIR AQUÍ',\n",
    "    'LA PREVIA',\n",
    "    'sigue el minuto a minuto',\n",
    "    'VER GRATIS',\n",
    "    'CANAL DE LAS ESTRELLAS',\n",
    "    'SEGUIR EN DIRECTO',\n",
    "    '►'\n",
    "]\n",
    "#for word in word_to_delete:\n",
    "    #stop_words_spanish.append(word)"
   ]
  },
  {
   "cell_type": "code",
   "execution_count": 11,
   "metadata": {},
   "outputs": [],
   "source": [
    "content_temp = [];\n",
    "for contenido in data[\"Contenido\"]:\n",
    "    contenido = ast.literal_eval(contenido)\n",
    "    content = ''\n",
    "    for item in contenido:\n",
    "        content = content + ' ' + str(item)\n",
    "        \n",
    "    for word in word_to_delete:\n",
    "        e for e in string if e.isalnum()\n",
    "        content = content.replace(word, '');\n",
    "        \n",
    "    content.\n",
    "    for i in Sentence:\n",
    "        if i not in string.punctuation:\n",
    "            print(\"Punctuation: \" + i)\n",
    "        \n",
    "    content_temp.append(content.lower())"
   ]
  },
  {
   "cell_type": "code",
   "execution_count": 12,
   "metadata": {},
   "outputs": [],
   "source": [
    "data[\"Contenido\"] = content_temp"
   ]
  },
  {
   "cell_type": "code",
   "execution_count": 13,
   "metadata": {},
   "outputs": [
    {
     "data": {
      "text/html": [
       "<div>\n",
       "<style scoped>\n",
       "    .dataframe tbody tr th:only-of-type {\n",
       "        vertical-align: middle;\n",
       "    }\n",
       "\n",
       "    .dataframe tbody tr th {\n",
       "        vertical-align: top;\n",
       "    }\n",
       "\n",
       "    .dataframe thead th {\n",
       "        text-align: right;\n",
       "    }\n",
       "</style>\n",
       "<table border=\"1\" class=\"dataframe\">\n",
       "  <thead>\n",
       "    <tr style=\"text-align: right;\">\n",
       "      <th></th>\n",
       "      <th>Titulo</th>\n",
       "      <th>Fecha</th>\n",
       "      <th>Contenido</th>\n",
       "      <th>Fuente</th>\n",
       "    </tr>\n",
       "  </thead>\n",
       "  <tbody>\n",
       "    <tr>\n",
       "      <th>0</th>\n",
       "      <td>[AHORA] América vs. Pumas UNAM EN VIVO transmi...</td>\n",
       "      <td>2019-09-14T22:51:00-05:00</td>\n",
       "      <td>américa vs. pumas unam    sigue el partido de...</td>\n",
       "      <td>El Comercio</td>\n",
       "    </tr>\n",
       "    <tr>\n",
       "      <th>1</th>\n",
       "      <td>América vs. Pumas UNAM: Sebastián Córdova fue ...</td>\n",
       "      <td>2019-09-14T22:50:19-05:00</td>\n",
       "      <td>el choque entre américa y pumas unam se desvi...</td>\n",
       "      <td>El Comercio</td>\n",
       "    </tr>\n",
       "    <tr>\n",
       "      <th>2</th>\n",
       "      <td>[EN VIVO] América vs. Pumas UNAM VER AQUÍ EN D...</td>\n",
       "      <td>2019-09-14T22:50:00-05:00</td>\n",
       "      <td>américa vs. pumas   se miden este sábado 14 d...</td>\n",
       "      <td>El Comercio</td>\n",
       "    </tr>\n",
       "    <tr>\n",
       "      <th>3</th>\n",
       "      <td>Keiko Fujimori fue internada en clínica local ...</td>\n",
       "      <td>2019-09-14T22:43:07-05:00</td>\n",
       "      <td>la lideresa de fuerza popular, keiko fujimori...</td>\n",
       "      <td>El Comercio</td>\n",
       "    </tr>\n",
       "    <tr>\n",
       "      <th>4</th>\n",
       "      <td>Sporting Cristal vs. Municipal: duelo por la j...</td>\n",
       "      <td>2019-09-14T22:35:41-05:00</td>\n",
       "      <td>sporting cristal vs. municipal     sigue el j...</td>\n",
       "      <td>El Comercio</td>\n",
       "    </tr>\n",
       "    <tr>\n",
       "      <th>5</th>\n",
       "      <td>El día que se difundió el primer vladivideo qu...</td>\n",
       "      <td>2019-09-14T22:34:00-05:00</td>\n",
       "      <td>un día como hoy, hace 19 años, se difundió un...</td>\n",
       "      <td>El Comercio</td>\n",
       "    </tr>\n",
       "    <tr>\n",
       "      <th>6</th>\n",
       "      <td>Luis Scola, el líder argentino que predica con...</td>\n",
       "      <td>2019-09-14T22:30:00-05:00</td>\n",
       "      <td>convertirse en el segundo máximo anotador en ...</td>\n",
       "      <td>El Comercio</td>\n",
       "    </tr>\n",
       "    <tr>\n",
       "      <th>7</th>\n",
       "      <td>Argentina vs. España EN VIVO vía TV Pública y ...</td>\n",
       "      <td>2019-09-14T22:25:16-05:00</td>\n",
       "      <td>argentina vs. españa     el partido de este d...</td>\n",
       "      <td>El Comercio</td>\n",
       "    </tr>\n",
       "    <tr>\n",
       "      <th>8</th>\n",
       "      <td>Universitario de Deportes venció 2-0 a Binacio...</td>\n",
       "      <td>2019-09-14T22:22:36-05:00</td>\n",
       "      <td>universitario de deportes, al final de la jor...</td>\n",
       "      <td>El Comercio</td>\n",
       "    </tr>\n",
       "    <tr>\n",
       "      <th>9</th>\n",
       "      <td>\"Supernatural\" temporada 15 FINAL: fecha de es...</td>\n",
       "      <td>2019-09-14T22:20:00-05:00</td>\n",
       "      <td>después de 15 años de “supernatural” la histo...</td>\n",
       "      <td>El Comercio</td>\n",
       "    </tr>\n",
       "    <tr>\n",
       "      <th>10</th>\n",
       "      <td>PSG vs. Estrasburgo: Neymar y el espectacular ...</td>\n",
       "      <td>2019-09-14T22:20:00-05:00</td>\n",
       "      <td>pide redención con goles. en el partido por l...</td>\n",
       "      <td>El Comercio</td>\n",
       "    </tr>\n",
       "    <tr>\n",
       "      <th>11</th>\n",
       "      <td>Atlético Nacional cayó 2-3 a manos del Deporti...</td>\n",
       "      <td>2019-09-14T22:16:32-05:00</td>\n",
       "      <td>atlético nacional vs. cúcuta deportivo     si...</td>\n",
       "      <td>El Comercio</td>\n",
       "    </tr>\n",
       "    <tr>\n",
       "      <th>12</th>\n",
       "      <td>Monterrey perdió 2-0 ante el Necaxa por la nov...</td>\n",
       "      <td>2019-09-14T22:15:03-05:00</td>\n",
       "      <td>con un doblete del mediocampista jesús angulo...</td>\n",
       "      <td>El Comercio</td>\n",
       "    </tr>\n",
       "    <tr>\n",
       "      <th>13</th>\n",
       "      <td>VER GRATIS, América vs. Pumas EN VIVO: sigue l...</td>\n",
       "      <td>2019-09-14T22:12:00-05:00</td>\n",
       "      <td>ver  américa vs. pumas    liga mx      tudn  ...</td>\n",
       "      <td>El Comercio</td>\n",
       "    </tr>\n",
       "    <tr>\n",
       "      <th>14</th>\n",
       "      <td>México: el precio del dólar para hoy sábado 14...</td>\n",
       "      <td>2019-09-14T22:09:00-05:00</td>\n",
       "      <td>el tipo de cambio en méxico operaba a la baja...</td>\n",
       "      <td>El Comercio</td>\n",
       "    </tr>\n",
       "    <tr>\n",
       "      <th>15</th>\n",
       "      <td>\"Lo peor del legado de Trump son las familias ...</td>\n",
       "      <td>2019-09-14T22:01:54-05:00</td>\n",
       "      <td>cuenta cynthia hudson, nacida en los ángeles,...</td>\n",
       "      <td>El Comercio</td>\n",
       "    </tr>\n",
       "    <tr>\n",
       "      <th>16</th>\n",
       "      <td>Independencia de México: famosos que fallaron ...</td>\n",
       "      <td>2019-09-14T22:53:00-05:00</td>\n",
       "      <td>a un día de la celebración de la independenci...</td>\n",
       "      <td>El Comercio</td>\n",
       "    </tr>\n",
       "    <tr>\n",
       "      <th>17</th>\n",
       "      <td>Independencia de México: famosos que fallaron ...</td>\n",
       "      <td>2019-09-14T22:53:00-05:00</td>\n",
       "      <td>a un día de la celebración de la independenci...</td>\n",
       "      <td>El Comercio</td>\n",
       "    </tr>\n",
       "    <tr>\n",
       "      <th>18</th>\n",
       "      <td>[AHORA] América vs. Pumas UNAM EN VIVO transmi...</td>\n",
       "      <td>2019-09-14T22:51:00-05:00</td>\n",
       "      <td>américa vs. pumas unam    sigue el partido de...</td>\n",
       "      <td>El Comercio</td>\n",
       "    </tr>\n",
       "    <tr>\n",
       "      <th>19</th>\n",
       "      <td>América vs. Pumas UNAM: Sebastián Córdova fue ...</td>\n",
       "      <td>2019-09-14T22:50:19-05:00</td>\n",
       "      <td>el choque entre américa y pumas unam se desvi...</td>\n",
       "      <td>El Comercio</td>\n",
       "    </tr>\n",
       "  </tbody>\n",
       "</table>\n",
       "</div>"
      ],
      "text/plain": [
       "                                               Titulo  \\\n",
       "0   [AHORA] América vs. Pumas UNAM EN VIVO transmi...   \n",
       "1   América vs. Pumas UNAM: Sebastián Córdova fue ...   \n",
       "2   [EN VIVO] América vs. Pumas UNAM VER AQUÍ EN D...   \n",
       "3   Keiko Fujimori fue internada en clínica local ...   \n",
       "4   Sporting Cristal vs. Municipal: duelo por la j...   \n",
       "5   El día que se difundió el primer vladivideo qu...   \n",
       "6   Luis Scola, el líder argentino que predica con...   \n",
       "7   Argentina vs. España EN VIVO vía TV Pública y ...   \n",
       "8   Universitario de Deportes venció 2-0 a Binacio...   \n",
       "9   \"Supernatural\" temporada 15 FINAL: fecha de es...   \n",
       "10  PSG vs. Estrasburgo: Neymar y el espectacular ...   \n",
       "11  Atlético Nacional cayó 2-3 a manos del Deporti...   \n",
       "12  Monterrey perdió 2-0 ante el Necaxa por la nov...   \n",
       "13  VER GRATIS, América vs. Pumas EN VIVO: sigue l...   \n",
       "14  México: el precio del dólar para hoy sábado 14...   \n",
       "15  \"Lo peor del legado de Trump son las familias ...   \n",
       "16  Independencia de México: famosos que fallaron ...   \n",
       "17  Independencia de México: famosos que fallaron ...   \n",
       "18  [AHORA] América vs. Pumas UNAM EN VIVO transmi...   \n",
       "19  América vs. Pumas UNAM: Sebastián Córdova fue ...   \n",
       "\n",
       "                        Fecha  \\\n",
       "0   2019-09-14T22:51:00-05:00   \n",
       "1   2019-09-14T22:50:19-05:00   \n",
       "2   2019-09-14T22:50:00-05:00   \n",
       "3   2019-09-14T22:43:07-05:00   \n",
       "4   2019-09-14T22:35:41-05:00   \n",
       "5   2019-09-14T22:34:00-05:00   \n",
       "6   2019-09-14T22:30:00-05:00   \n",
       "7   2019-09-14T22:25:16-05:00   \n",
       "8   2019-09-14T22:22:36-05:00   \n",
       "9   2019-09-14T22:20:00-05:00   \n",
       "10  2019-09-14T22:20:00-05:00   \n",
       "11  2019-09-14T22:16:32-05:00   \n",
       "12  2019-09-14T22:15:03-05:00   \n",
       "13  2019-09-14T22:12:00-05:00   \n",
       "14  2019-09-14T22:09:00-05:00   \n",
       "15  2019-09-14T22:01:54-05:00   \n",
       "16  2019-09-14T22:53:00-05:00   \n",
       "17  2019-09-14T22:53:00-05:00   \n",
       "18  2019-09-14T22:51:00-05:00   \n",
       "19  2019-09-14T22:50:19-05:00   \n",
       "\n",
       "                                            Contenido       Fuente  \n",
       "0    américa vs. pumas unam    sigue el partido de...  El Comercio  \n",
       "1    el choque entre américa y pumas unam se desvi...  El Comercio  \n",
       "2    américa vs. pumas   se miden este sábado 14 d...  El Comercio  \n",
       "3    la lideresa de fuerza popular, keiko fujimori...  El Comercio  \n",
       "4    sporting cristal vs. municipal     sigue el j...  El Comercio  \n",
       "5    un día como hoy, hace 19 años, se difundió un...  El Comercio  \n",
       "6    convertirse en el segundo máximo anotador en ...  El Comercio  \n",
       "7    argentina vs. españa     el partido de este d...  El Comercio  \n",
       "8    universitario de deportes, al final de la jor...  El Comercio  \n",
       "9    después de 15 años de “supernatural” la histo...  El Comercio  \n",
       "10   pide redención con goles. en el partido por l...  El Comercio  \n",
       "11   atlético nacional vs. cúcuta deportivo     si...  El Comercio  \n",
       "12   con un doblete del mediocampista jesús angulo...  El Comercio  \n",
       "13   ver  américa vs. pumas    liga mx      tudn  ...  El Comercio  \n",
       "14   el tipo de cambio en méxico operaba a la baja...  El Comercio  \n",
       "15   cuenta cynthia hudson, nacida en los ángeles,...  El Comercio  \n",
       "16   a un día de la celebración de la independenci...  El Comercio  \n",
       "17   a un día de la celebración de la independenci...  El Comercio  \n",
       "18   américa vs. pumas unam    sigue el partido de...  El Comercio  \n",
       "19   el choque entre américa y pumas unam se desvi...  El Comercio  "
      ]
     },
     "execution_count": 13,
     "metadata": {},
     "output_type": "execute_result"
    }
   ],
   "source": [
    "data.head(20)"
   ]
  },
  {
   "cell_type": "markdown",
   "metadata": {},
   "source": [
    "#### Falta limpiar la data, titulo quitar el [ahora], [en vivo], etc; parsear fecha, procesar contenido"
   ]
  },
  {
   "cell_type": "markdown",
   "metadata": {},
   "source": [
    "## 4. Word2Vec"
   ]
  },
  {
   "cell_type": "code",
   "execution_count": 53,
   "metadata": {},
   "outputs": [],
   "source": [
    "#from gensim.models import word2vec # se debe instalar gensim (pip install gensim)\n",
    "from gensim.test.utils import common_texts, get_tmpfile\n",
    "from gensim.models import Word2Vec, Phrases\n",
    "import numpy as np\n",
    "import gensim\n",
    "from multiprocessing import cpu_count\n",
    "from nltk.tokenize import sent_tokenize, word_tokenize"
   ]
  },
  {
   "cell_type": "code",
   "execution_count": 24,
   "metadata": {},
   "outputs": [],
   "source": [
    "cpu = cpu_count()"
   ]
  },
  {
   "cell_type": "code",
   "execution_count": 58,
   "metadata": {},
   "outputs": [],
   "source": [
    "first_sentence = [['a', 'a']]\n",
    "model = Word2Vec(first_sentence, min_count=2,size=100,workers=cpu)\n",
    "for contenido in data[\"Contenido\"]:\n",
    "    content_temp = [] \n",
    "    for i in sent_tokenize(contenido): \n",
    "        temp = [] \n",
    "        # tokenize the sentence into words \n",
    "        for j in word_tokenize(i): \n",
    "            if j not in stop_words_spanish:\n",
    "                temp.append(j.lower()) \n",
    "\n",
    "        content_temp.append(temp)\n",
    "    model.build_vocab(content_temp,update=True)"
   ]
  },
  {
   "cell_type": "code",
   "execution_count": 59,
   "metadata": {},
   "outputs": [
    {
     "data": {
      "text/plain": [
       "4734"
      ]
     },
     "execution_count": 59,
     "metadata": {},
     "output_type": "execute_result"
    }
   ],
   "source": [
    "len(model.wv.vocab)"
   ]
  },
  {
   "cell_type": "code",
   "execution_count": 60,
   "metadata": {},
   "outputs": [],
   "source": [
    "def getFV(document):\n",
    "    words=document.split()\n",
    "    s=np.zeros(100)\n",
    "    k=0\n",
    "    for word in words:\n",
    "        word = word.lower()\n",
    "        if word in model.wv.vocab:\n",
    "            s=s+model[word]\n",
    "            k=k+1\n",
    "    \n",
    "    return s/k"
   ]
  },
  {
   "cell_type": "code",
   "execution_count": 61,
   "metadata": {},
   "outputs": [
    {
     "name": "stderr",
     "output_type": "stream",
     "text": [
      "/home/carlos/anaconda3/lib/python3.7/site-packages/ipykernel_launcher.py:8: DeprecationWarning: Call to deprecated `__getitem__` (Method will be removed in 4.0.0, use self.wv.__getitem__() instead).\n",
      "  \n",
      "/home/carlos/anaconda3/lib/python3.7/site-packages/ipykernel_launcher.py:11: RuntimeWarning: invalid value encountered in true_divide\n",
      "  # This is added back by InteractiveShellApp.init_path()\n"
     ]
    }
   ],
   "source": [
    "feature_vectors = []\n",
    "for contenido in data[\"Contenido\"]:\n",
    "    feature_vectors.append(getFV(contenido))"
   ]
  },
  {
   "cell_type": "code",
   "execution_count": 62,
   "metadata": {},
   "outputs": [],
   "source": [
    "data[\"Vectores caracteristicos\"] = feature_vectors"
   ]
  },
  {
   "cell_type": "code",
   "execution_count": 63,
   "metadata": {},
   "outputs": [
    {
     "data": {
      "text/html": [
       "<div>\n",
       "<style scoped>\n",
       "    .dataframe tbody tr th:only-of-type {\n",
       "        vertical-align: middle;\n",
       "    }\n",
       "\n",
       "    .dataframe tbody tr th {\n",
       "        vertical-align: top;\n",
       "    }\n",
       "\n",
       "    .dataframe thead th {\n",
       "        text-align: right;\n",
       "    }\n",
       "</style>\n",
       "<table border=\"1\" class=\"dataframe\">\n",
       "  <thead>\n",
       "    <tr style=\"text-align: right;\">\n",
       "      <th></th>\n",
       "      <th>Titulo</th>\n",
       "      <th>Fecha</th>\n",
       "      <th>Contenido</th>\n",
       "      <th>Fuente</th>\n",
       "      <th>Vectores caracteristicos</th>\n",
       "    </tr>\n",
       "  </thead>\n",
       "  <tbody>\n",
       "    <tr>\n",
       "      <th>0</th>\n",
       "      <td>[AHORA] América vs. Pumas UNAM EN VIVO transmi...</td>\n",
       "      <td>2019-09-14T22:51:00-05:00</td>\n",
       "      <td>américa vs. pumas unam en vivo | online sigue...</td>\n",
       "      <td>El Comercio</td>\n",
       "      <td>[0.0003275450703030573, 0.00019687138513757886...</td>\n",
       "    </tr>\n",
       "    <tr>\n",
       "      <th>1</th>\n",
       "      <td>América vs. Pumas UNAM: Sebastián Córdova fue ...</td>\n",
       "      <td>2019-09-14T22:50:19-05:00</td>\n",
       "      <td>el choque entre américa y pumas unam se desvi...</td>\n",
       "      <td>El Comercio</td>\n",
       "      <td>[0.0009761845369666844, 0.0013471007614498376,...</td>\n",
       "    </tr>\n",
       "    <tr>\n",
       "      <th>2</th>\n",
       "      <td>[EN VIVO] América vs. Pumas UNAM VER AQUÍ EN D...</td>\n",
       "      <td>2019-09-14T22:50:00-05:00</td>\n",
       "      <td>américa vs. pumas en vivo en directo se miden...</td>\n",
       "      <td>El Comercio</td>\n",
       "      <td>[0.0006838002266095006, -5.6954197258094e-05, ...</td>\n",
       "    </tr>\n",
       "    <tr>\n",
       "      <th>3</th>\n",
       "      <td>Keiko Fujimori fue internada en clínica local ...</td>\n",
       "      <td>2019-09-14T22:43:07-05:00</td>\n",
       "      <td>la lideresa de fuerza popular, keiko fujimori...</td>\n",
       "      <td>El Comercio</td>\n",
       "      <td>[-0.00010414214213799116, -0.00011568270188204...</td>\n",
       "    </tr>\n",
       "    <tr>\n",
       "      <th>4</th>\n",
       "      <td>Sporting Cristal vs. Municipal: duelo por la j...</td>\n",
       "      <td>2019-09-14T22:35:41-05:00</td>\n",
       "      <td>sporting cristal vs. municipal en vivo online...</td>\n",
       "      <td>El Comercio</td>\n",
       "      <td>[0.0003017702665030291, 8.048827618560088e-05,...</td>\n",
       "    </tr>\n",
       "  </tbody>\n",
       "</table>\n",
       "</div>"
      ],
      "text/plain": [
       "                                              Titulo  \\\n",
       "0  [AHORA] América vs. Pumas UNAM EN VIVO transmi...   \n",
       "1  América vs. Pumas UNAM: Sebastián Córdova fue ...   \n",
       "2  [EN VIVO] América vs. Pumas UNAM VER AQUÍ EN D...   \n",
       "3  Keiko Fujimori fue internada en clínica local ...   \n",
       "4  Sporting Cristal vs. Municipal: duelo por la j...   \n",
       "\n",
       "                       Fecha  \\\n",
       "0  2019-09-14T22:51:00-05:00   \n",
       "1  2019-09-14T22:50:19-05:00   \n",
       "2  2019-09-14T22:50:00-05:00   \n",
       "3  2019-09-14T22:43:07-05:00   \n",
       "4  2019-09-14T22:35:41-05:00   \n",
       "\n",
       "                                           Contenido       Fuente  \\\n",
       "0   américa vs. pumas unam en vivo | online sigue...  El Comercio   \n",
       "1   el choque entre américa y pumas unam se desvi...  El Comercio   \n",
       "2   américa vs. pumas en vivo en directo se miden...  El Comercio   \n",
       "3   la lideresa de fuerza popular, keiko fujimori...  El Comercio   \n",
       "4   sporting cristal vs. municipal en vivo online...  El Comercio   \n",
       "\n",
       "                            Vectores caracteristicos  \n",
       "0  [0.0003275450703030573, 0.00019687138513757886...  \n",
       "1  [0.0009761845369666844, 0.0013471007614498376,...  \n",
       "2  [0.0006838002266095006, -5.6954197258094e-05, ...  \n",
       "3  [-0.00010414214213799116, -0.00011568270188204...  \n",
       "4  [0.0003017702665030291, 8.048827618560088e-05,...  "
      ]
     },
     "execution_count": 63,
     "metadata": {},
     "output_type": "execute_result"
    }
   ],
   "source": [
    "data.head()"
   ]
  },
  {
   "cell_type": "code",
   "execution_count": 66,
   "metadata": {},
   "outputs": [
    {
     "ename": "KeyboardInterrupt",
     "evalue": "",
     "output_type": "error",
     "traceback": [
      "\u001b[0;31m---------------------------------------------------------------------------\u001b[0m",
      "\u001b[0;31mKeyboardInterrupt\u001b[0m                         Traceback (most recent call last)",
      "\u001b[0;32m<ipython-input-66-dd3e1f1c8ea9>\u001b[0m in \u001b[0;36m<module>\u001b[0;34m\u001b[0m\n\u001b[1;32m      3\u001b[0m \u001b[0mNUM_CLUSTERS\u001b[0m\u001b[0;34m=\u001b[0m\u001b[0;36m10\u001b[0m\u001b[0;34m\u001b[0m\u001b[0;34m\u001b[0m\u001b[0m\n\u001b[1;32m      4\u001b[0m \u001b[0mkclusterer\u001b[0m \u001b[0;34m=\u001b[0m \u001b[0mKMeansClusterer\u001b[0m\u001b[0;34m(\u001b[0m\u001b[0mNUM_CLUSTERS\u001b[0m\u001b[0;34m,\u001b[0m \u001b[0mdistance\u001b[0m\u001b[0;34m=\u001b[0m\u001b[0mnltk\u001b[0m\u001b[0;34m.\u001b[0m\u001b[0mcluster\u001b[0m\u001b[0;34m.\u001b[0m\u001b[0mutil\u001b[0m\u001b[0;34m.\u001b[0m\u001b[0meuclidean_distance\u001b[0m\u001b[0;34m,\u001b[0m \u001b[0mavoid_empty_clusters\u001b[0m\u001b[0;34m=\u001b[0m\u001b[0;32mTrue\u001b[0m\u001b[0;34m)\u001b[0m\u001b[0;34m\u001b[0m\u001b[0;34m\u001b[0m\u001b[0m\n\u001b[0;32m----> 5\u001b[0;31m \u001b[0massigned_clusters\u001b[0m \u001b[0;34m=\u001b[0m \u001b[0mkclusterer\u001b[0m\u001b[0;34m.\u001b[0m\u001b[0mcluster\u001b[0m\u001b[0;34m(\u001b[0m\u001b[0mdata\u001b[0m\u001b[0;34m[\u001b[0m\u001b[0;34m\"Vectores caracteristicos\"\u001b[0m\u001b[0;34m]\u001b[0m\u001b[0;34m,\u001b[0m \u001b[0massign_clusters\u001b[0m\u001b[0;34m=\u001b[0m\u001b[0;32mTrue\u001b[0m\u001b[0;34m)\u001b[0m\u001b[0;34m\u001b[0m\u001b[0;34m\u001b[0m\u001b[0m\n\u001b[0m",
      "\u001b[0;32m~/.local/lib/python3.7/site-packages/nltk/cluster/util.py\u001b[0m in \u001b[0;36mcluster\u001b[0;34m(self, vectors, assign_clusters, trace)\u001b[0m\n\u001b[1;32m     60\u001b[0m \u001b[0;34m\u001b[0m\u001b[0m\n\u001b[1;32m     61\u001b[0m         \u001b[0;31m# call abstract method to cluster the vectors\u001b[0m\u001b[0;34m\u001b[0m\u001b[0;34m\u001b[0m\u001b[0;34m\u001b[0m\u001b[0m\n\u001b[0;32m---> 62\u001b[0;31m         \u001b[0mself\u001b[0m\u001b[0;34m.\u001b[0m\u001b[0mcluster_vectorspace\u001b[0m\u001b[0;34m(\u001b[0m\u001b[0mvectors\u001b[0m\u001b[0;34m,\u001b[0m \u001b[0mtrace\u001b[0m\u001b[0;34m)\u001b[0m\u001b[0;34m\u001b[0m\u001b[0;34m\u001b[0m\u001b[0m\n\u001b[0m\u001b[1;32m     63\u001b[0m \u001b[0;34m\u001b[0m\u001b[0m\n\u001b[1;32m     64\u001b[0m         \u001b[0;31m# assign the vectors to clusters\u001b[0m\u001b[0;34m\u001b[0m\u001b[0;34m\u001b[0m\u001b[0;34m\u001b[0m\u001b[0m\n",
      "\u001b[0;32m~/.local/lib/python3.7/site-packages/nltk/cluster/kmeans.py\u001b[0m in \u001b[0;36mcluster_vectorspace\u001b[0;34m(self, vectors, trace)\u001b[0m\n\u001b[1;32m     92\u001b[0m             \u001b[0;32mif\u001b[0m \u001b[0;32mnot\u001b[0m \u001b[0mself\u001b[0m\u001b[0;34m.\u001b[0m\u001b[0m_means\u001b[0m \u001b[0;32mor\u001b[0m \u001b[0mtrial\u001b[0m \u001b[0;34m>\u001b[0m \u001b[0;36m1\u001b[0m\u001b[0;34m:\u001b[0m\u001b[0;34m\u001b[0m\u001b[0;34m\u001b[0m\u001b[0m\n\u001b[1;32m     93\u001b[0m                 \u001b[0mself\u001b[0m\u001b[0;34m.\u001b[0m\u001b[0m_means\u001b[0m \u001b[0;34m=\u001b[0m \u001b[0mself\u001b[0m\u001b[0;34m.\u001b[0m\u001b[0m_rng\u001b[0m\u001b[0;34m.\u001b[0m\u001b[0msample\u001b[0m\u001b[0;34m(\u001b[0m\u001b[0mlist\u001b[0m\u001b[0;34m(\u001b[0m\u001b[0mvectors\u001b[0m\u001b[0;34m)\u001b[0m\u001b[0;34m,\u001b[0m \u001b[0mself\u001b[0m\u001b[0;34m.\u001b[0m\u001b[0m_num_means\u001b[0m\u001b[0;34m)\u001b[0m\u001b[0;34m\u001b[0m\u001b[0;34m\u001b[0m\u001b[0m\n\u001b[0;32m---> 94\u001b[0;31m             \u001b[0mself\u001b[0m\u001b[0;34m.\u001b[0m\u001b[0m_cluster_vectorspace\u001b[0m\u001b[0;34m(\u001b[0m\u001b[0mvectors\u001b[0m\u001b[0;34m,\u001b[0m \u001b[0mtrace\u001b[0m\u001b[0;34m)\u001b[0m\u001b[0;34m\u001b[0m\u001b[0;34m\u001b[0m\u001b[0m\n\u001b[0m\u001b[1;32m     95\u001b[0m             \u001b[0mmeanss\u001b[0m\u001b[0;34m.\u001b[0m\u001b[0mappend\u001b[0m\u001b[0;34m(\u001b[0m\u001b[0mself\u001b[0m\u001b[0;34m.\u001b[0m\u001b[0m_means\u001b[0m\u001b[0;34m)\u001b[0m\u001b[0;34m\u001b[0m\u001b[0;34m\u001b[0m\u001b[0m\n\u001b[1;32m     96\u001b[0m \u001b[0;34m\u001b[0m\u001b[0m\n",
      "\u001b[0;32m~/.local/lib/python3.7/site-packages/nltk/cluster/kmeans.py\u001b[0m in \u001b[0;36m_cluster_vectorspace\u001b[0;34m(self, vectors, trace)\u001b[0m\n\u001b[1;32m    123\u001b[0m                 \u001b[0mclusters\u001b[0m \u001b[0;34m=\u001b[0m \u001b[0;34m[\u001b[0m\u001b[0;34m[\u001b[0m\u001b[0;34m]\u001b[0m \u001b[0;32mfor\u001b[0m \u001b[0mm\u001b[0m \u001b[0;32min\u001b[0m \u001b[0mrange\u001b[0m\u001b[0;34m(\u001b[0m\u001b[0mself\u001b[0m\u001b[0;34m.\u001b[0m\u001b[0m_num_means\u001b[0m\u001b[0;34m)\u001b[0m\u001b[0;34m]\u001b[0m\u001b[0;34m\u001b[0m\u001b[0;34m\u001b[0m\u001b[0m\n\u001b[1;32m    124\u001b[0m                 \u001b[0;32mfor\u001b[0m \u001b[0mvector\u001b[0m \u001b[0;32min\u001b[0m \u001b[0mvectors\u001b[0m\u001b[0;34m:\u001b[0m\u001b[0;34m\u001b[0m\u001b[0;34m\u001b[0m\u001b[0m\n\u001b[0;32m--> 125\u001b[0;31m                     \u001b[0mindex\u001b[0m \u001b[0;34m=\u001b[0m \u001b[0mself\u001b[0m\u001b[0;34m.\u001b[0m\u001b[0mclassify_vectorspace\u001b[0m\u001b[0;34m(\u001b[0m\u001b[0mvector\u001b[0m\u001b[0;34m)\u001b[0m\u001b[0;34m\u001b[0m\u001b[0;34m\u001b[0m\u001b[0m\n\u001b[0m\u001b[1;32m    126\u001b[0m                     \u001b[0mclusters\u001b[0m\u001b[0;34m[\u001b[0m\u001b[0mindex\u001b[0m\u001b[0;34m]\u001b[0m\u001b[0;34m.\u001b[0m\u001b[0mappend\u001b[0m\u001b[0;34m(\u001b[0m\u001b[0mvector\u001b[0m\u001b[0;34m)\u001b[0m\u001b[0;34m\u001b[0m\u001b[0;34m\u001b[0m\u001b[0m\n\u001b[1;32m    127\u001b[0m \u001b[0;34m\u001b[0m\u001b[0m\n",
      "\u001b[0;32m~/.local/lib/python3.7/site-packages/nltk/cluster/kmeans.py\u001b[0m in \u001b[0;36mclassify_vectorspace\u001b[0;34m(self, vector)\u001b[0m\n\u001b[1;32m    148\u001b[0m         \u001b[0;32mfor\u001b[0m \u001b[0mindex\u001b[0m \u001b[0;32min\u001b[0m \u001b[0mrange\u001b[0m\u001b[0;34m(\u001b[0m\u001b[0mlen\u001b[0m\u001b[0;34m(\u001b[0m\u001b[0mself\u001b[0m\u001b[0;34m.\u001b[0m\u001b[0m_means\u001b[0m\u001b[0;34m)\u001b[0m\u001b[0;34m)\u001b[0m\u001b[0;34m:\u001b[0m\u001b[0;34m\u001b[0m\u001b[0;34m\u001b[0m\u001b[0m\n\u001b[1;32m    149\u001b[0m             \u001b[0mmean\u001b[0m \u001b[0;34m=\u001b[0m \u001b[0mself\u001b[0m\u001b[0;34m.\u001b[0m\u001b[0m_means\u001b[0m\u001b[0;34m[\u001b[0m\u001b[0mindex\u001b[0m\u001b[0;34m]\u001b[0m\u001b[0;34m\u001b[0m\u001b[0;34m\u001b[0m\u001b[0m\n\u001b[0;32m--> 150\u001b[0;31m             \u001b[0mdist\u001b[0m \u001b[0;34m=\u001b[0m \u001b[0mself\u001b[0m\u001b[0;34m.\u001b[0m\u001b[0m_distance\u001b[0m\u001b[0;34m(\u001b[0m\u001b[0mvector\u001b[0m\u001b[0;34m,\u001b[0m \u001b[0mmean\u001b[0m\u001b[0;34m)\u001b[0m\u001b[0;34m\u001b[0m\u001b[0;34m\u001b[0m\u001b[0m\n\u001b[0m\u001b[1;32m    151\u001b[0m             \u001b[0;32mif\u001b[0m \u001b[0mbest_distance\u001b[0m \u001b[0;32mis\u001b[0m \u001b[0;32mNone\u001b[0m \u001b[0;32mor\u001b[0m \u001b[0mdist\u001b[0m \u001b[0;34m<\u001b[0m \u001b[0mbest_distance\u001b[0m\u001b[0;34m:\u001b[0m\u001b[0;34m\u001b[0m\u001b[0;34m\u001b[0m\u001b[0m\n\u001b[1;32m    152\u001b[0m                 \u001b[0mbest_index\u001b[0m\u001b[0;34m,\u001b[0m \u001b[0mbest_distance\u001b[0m \u001b[0;34m=\u001b[0m \u001b[0mindex\u001b[0m\u001b[0;34m,\u001b[0m \u001b[0mdist\u001b[0m\u001b[0;34m\u001b[0m\u001b[0;34m\u001b[0m\u001b[0m\n",
      "\u001b[0;32m~/.local/lib/python3.7/site-packages/nltk/cluster/util.py\u001b[0m in \u001b[0;36meuclidean_distance\u001b[0;34m(u, v)\u001b[0m\n\u001b[1;32m    122\u001b[0m     \u001b[0mto\u001b[0m \u001b[0mthe\u001b[0m \u001b[0mlength\u001b[0m \u001b[0mof\u001b[0m \u001b[0mthe\u001b[0m \u001b[0mvector\u001b[0m \u001b[0;34m(\u001b[0m\u001b[0mu\u001b[0m \u001b[0;34m-\u001b[0m \u001b[0mv\u001b[0m\u001b[0;34m)\u001b[0m\u001b[0;34m.\u001b[0m\u001b[0;34m\u001b[0m\u001b[0;34m\u001b[0m\u001b[0m\n\u001b[1;32m    123\u001b[0m     \"\"\"\n\u001b[0;32m--> 124\u001b[0;31m     \u001b[0mdiff\u001b[0m \u001b[0;34m=\u001b[0m \u001b[0mu\u001b[0m \u001b[0;34m-\u001b[0m \u001b[0mv\u001b[0m\u001b[0;34m\u001b[0m\u001b[0;34m\u001b[0m\u001b[0m\n\u001b[0m\u001b[1;32m    125\u001b[0m     \u001b[0;32mreturn\u001b[0m \u001b[0msqrt\u001b[0m\u001b[0;34m(\u001b[0m\u001b[0mnumpy\u001b[0m\u001b[0;34m.\u001b[0m\u001b[0mdot\u001b[0m\u001b[0;34m(\u001b[0m\u001b[0mdiff\u001b[0m\u001b[0;34m,\u001b[0m \u001b[0mdiff\u001b[0m\u001b[0;34m)\u001b[0m\u001b[0;34m)\u001b[0m\u001b[0;34m\u001b[0m\u001b[0;34m\u001b[0m\u001b[0m\n\u001b[1;32m    126\u001b[0m \u001b[0;34m\u001b[0m\u001b[0m\n",
      "\u001b[0;31mKeyboardInterrupt\u001b[0m: "
     ]
    }
   ],
   "source": [
    "from nltk.cluster import KMeansClusterer\n",
    "\n",
    "NUM_CLUSTERS=10\n",
    "kclusterer = KMeansClusterer(NUM_CLUSTERS, distance=nltk.cluster.util.euclidean_distance, avoid_empty_clusters=True)\n",
    "assigned_clusters = kclusterer.cluster(data[\"Vectores caracteristicos\"], assign_clusters=True)"
   ]
  },
  {
   "cell_type": "code",
   "execution_count": 105,
   "metadata": {},
   "outputs": [
    {
     "name": "stdout",
     "output_type": "stream",
     "text": [
      "[7, 9, 9, 3, 7, 7, 5, 3, 5, 5, 7, 8, 2, 2, 6, 7, 3, 3, 7, 9, 9, 3, 7, 7, 5, 3, 5, 5, 7, 8, 2, 2, 6, 7, 3, 6, 3, 3, 8, 7, 7, 5, 7, 3, 2, 1, 1, 1, 3, 3, 3, 3, 7, 7, 2, 3, 6, 2, 3, 7, 7, 4, 2, 7, 3, 3, 9, 8, 1, 3, 5, 3, 3, 7, 3, 7, 7, 1, 5, 7, 3, 2, 7, 1, 7, 7, 7, 7, 3, 3, 8, 0, 7, 2, 6, 7, 5, 5, 3, 5]\n"
     ]
    }
   ],
   "source": [
    "print(assigned_clusters)"
   ]
  },
  {
   "cell_type": "markdown",
   "metadata": {},
   "source": [
    "## Agregar nuevo item"
   ]
  },
  {
   "cell_type": "code",
   "execution_count": 110,
   "metadata": {},
   "outputs": [
    {
     "name": "stderr",
     "output_type": "stream",
     "text": [
      "/home/carlos/anaconda3/lib/python3.7/site-packages/ipykernel_launcher.py:8: DeprecationWarning: Call to deprecated `__getitem__` (Method will be removed in 4.0.0, use self.wv.__getitem__() instead).\n",
      "  \n"
     ]
    }
   ],
   "source": [
    "notice = \"VER ONLINE AMÉRICA VS. PUMAS | VER GRATIS | LIGA MX EN VIVO | CANAL DE LAS ESTRELLAS EN VIVO | TUDN EN VIVO | SEGUIR EN DIRECTO ONLINE |\\xa0Club\\xa0América 0-0\\xa0Pumas UNAM se enfrentarán hoy por la fecha 9 del Torneo Apertura de la Liga MX. El estadio que acogerá este emocionante partido será el mítico Azteca, donde se jugará a partir de las 21:06 horas en Perú y en México con transmisión vía Canal de las Estrellas, TUDN, TUDN En Vivo en el país del ‘Tri’.', 'Las ‘Águilas’ llegan al duelo luego de haber disputado un amistoso con Chivas el último fin de semana (0-0) y de haber caído por goleada 3-0 frente al Atlas en la anterior jornada del certamen doméstico, un resultado amargo que lo mantuvo con 15 puntos.', '▷ Fútbol en vivo: seguir todos los partidos programados para esta semana▷ Champions League 2019-2020 en vivo: fixture y horarios para ver todos los partidos de la fase de grupos', 'Ahora, ante Pumas, el Club América, en calidad de local, está decidido a reencontrarse con la victoria para darle una alegría a su hinchada; sin embargo, reconoce que la tarea no será nada fácil.', 'Y es que los ‘Auriazules’ afrontarán el compromiso por el Torneo Apertura de la Liga MX tras vencer 2-1 a Toluca en la fecha anterior, que les valió para llegar a los 12 puntos y seguir en la pelea por los primeros lugares.', 'Pumas sabe que ante el América tiene una gran oportunidad de seguir sumando en la tabla y no la piensa desaprovechar. ¿Cómo quedará el partido? Pronto lo sabremos.', 'América: G. Ochoa, J. Sánchez, C. Vargas, E. Aguilera, P. Aguilar, G. Rodríguez, F. González, F. Córdova, L. López, R. Ibarra y R. Martínez.DT: Miguel Herrera.', 'Pumas: A. Saldívar, A. Mozo, L. Quintana, N. Freire, J. Angulo, J. Vigón, A. Iniestra, D. Cabrera, P. Barrera, C. González e I. Malcorra.DT: Míchel.', 'Perú: 21:06 horas España: 04:06 horas del domingo 15 de septiembreMéxico: 21:06 horas en Ciudad de MéxicoArgentina: 23:06 horas Brasil: 23:06 horas en BrasiliaColombia: 21:06 horas Chile: 23:06 horas en Santiago Ecuador: 21:06 horas en Quito Uruguay: 23:06 horas Venezuela: 22:06 horas Bolivia: 22:06 horas', 'DEPOR |\\xa0¡Por TUDN desde México! Sigue EN VIVO y EN DIRECTO de los partidos del Apertura Liga MX 2019 por fecha 9EL BOCÓN |\\xa0Liga MX EN VIVO: sigue los partidos y resultados de la fecha 9 del Torneo Apertura 2019MEDIO TIEMPO |\\xa0América vs Pumas: Horario para ver EN VIVO la Jornada 9 del Apertura 2019MILENIO | Horario y dónde ver el América vs Pumas de Liga MX\"\n",
    "\n",
    "data = data.append({'Titulo' : 'sdsads' , 'Fecha' : '', 'Contenido': notice.lower(), 'Enlace': '', 'Fuente': '', 'Vectores caracteristicos': getFV(notice)} , ignore_index=True)"
   ]
  },
  {
   "cell_type": "code",
   "execution_count": 111,
   "metadata": {},
   "outputs": [
    {
     "name": "stdout",
     "output_type": "stream",
     "text": [
      "Warning: means will be discarded for subsequent trials\n",
      "[8, 8, 8, 7, 4, 7, 6, 5, 6, 7, 8, 8, 7, 1, 4, 9, 4, 4, 8, 8, 8, 7, 4, 7, 6, 5, 6, 7, 8, 8, 7, 1, 4, 9, 3, 3, 4, 6, 7, 9, 7, 7, 7, 3, 8, 4, 4, 5, 3, 4, 4, 2, 7, 7, 8, 3, 6, 1, 3, 7, 5, 6, 6, 9, 2, 4, 5, 8, 4, 3, 6, 3, 3, 5, 3, 5, 9, 7, 7, 5, 4, 6, 7, 4, 7, 6, 7, 7, 4, 3, 3, 0, 5, 5, 3, 6, 6, 4, 3, 6, 1, 1, 1]\n"
     ]
    }
   ],
   "source": [
    "assigned_clusters2 = kclusterer.cluster(data[\"Vectores caracteristicos\"], assign_clusters=True)\n",
    "print (assigned_clusters2)"
   ]
  },
  {
   "cell_type": "code",
   "execution_count": null,
   "metadata": {},
   "outputs": [],
   "source": []
  }
 ],
 "metadata": {
  "kernelspec": {
   "display_name": "Python 3",
   "language": "python",
   "name": "python3"
  },
  "language_info": {
   "codemirror_mode": {
    "name": "ipython",
    "version": 3
   },
   "file_extension": ".py",
   "mimetype": "text/x-python",
   "name": "python",
   "nbconvert_exporter": "python",
   "pygments_lexer": "ipython3",
   "version": "3.7.1"
  }
 },
 "nbformat": 4,
 "nbformat_minor": 2
}
