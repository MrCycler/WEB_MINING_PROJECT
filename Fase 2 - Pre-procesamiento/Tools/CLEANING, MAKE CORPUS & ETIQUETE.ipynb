{
 "cells": [
  {
   "cell_type": "code",
   "execution_count": 1,
   "metadata": {},
   "outputs": [],
   "source": [
    "import cleaning_library as cl"
   ]
  },
  {
   "cell_type": "code",
   "execution_count": 2,
   "metadata": {},
   "outputs": [
    {
     "name": "stdout",
     "output_type": "stream",
     "text": [
      "[nltk_data] Downloading package stopwords to\n",
      "[nltk_data]     C:\\Users\\pc\\AppData\\Roaming\\nltk_data...\n",
      "[nltk_data]   Package stopwords is already up-to-date!\n"
     ]
    }
   ],
   "source": [
    "cl.limpiar_csv('NOTICIAS_4P_CLEAN.csv','complete_clean_news.csv')"
   ]
  },
  {
   "cell_type": "code",
   "execution_count": 6,
   "metadata": {},
   "outputs": [
    {
     "data": {
      "text/html": [
       "<div>\n",
       "<style scoped>\n",
       "    .dataframe tbody tr th:only-of-type {\n",
       "        vertical-align: middle;\n",
       "    }\n",
       "\n",
       "    .dataframe tbody tr th {\n",
       "        vertical-align: top;\n",
       "    }\n",
       "\n",
       "    .dataframe thead th {\n",
       "        text-align: right;\n",
       "    }\n",
       "</style>\n",
       "<table border=\"1\" class=\"dataframe\">\n",
       "  <thead>\n",
       "    <tr style=\"text-align: right;\">\n",
       "      <th></th>\n",
       "      <th>Categoria</th>\n",
       "      <th>Autor</th>\n",
       "      <th>Titulo</th>\n",
       "      <th>Resumen</th>\n",
       "      <th>Contenido</th>\n",
       "    </tr>\n",
       "  </thead>\n",
       "  <tbody>\n",
       "    <tr>\n",
       "      <th>0</th>\n",
       "      <td>farándula</td>\n",
       "      <td>redacción perú21</td>\n",
       "      <td>fiorella rodríguez presentó dueño corazón mese...</td>\n",
       "      <td>conductora sorprendió fanáticos fotos amor red...</td>\n",
       "      <td>presentadora exjurado artista año fiorella rod...</td>\n",
       "    </tr>\n",
       "    <tr>\n",
       "      <th>1</th>\n",
       "      <td>perú</td>\n",
       "      <td>redacción perú21</td>\n",
       "      <td>sujeto arrojó thinner padre 68 años prendió fu...</td>\n",
       "      <td>joven negó incendiado padre víctima graves que...</td>\n",
       "      <td>wandherlay enriquez luque 25 detenido arrojado...</td>\n",
       "    </tr>\n",
       "    <tr>\n",
       "      <th>2</th>\n",
       "      <td>política</td>\n",
       "      <td>redacción perú21</td>\n",
       "      <td>luis bedoya reyes llama abogados juristas inte...</td>\n",
       "      <td>político 100 años pronunció importancia postul...</td>\n",
       "      <td>luis bedoya reyes fundadores históricos partid...</td>\n",
       "    </tr>\n",
       "    <tr>\n",
       "      <th>3</th>\n",
       "      <td>lima</td>\n",
       "      <td>redacción perú21</td>\n",
       "      <td>separan responsables difundir fotos expresiden...</td>\n",
       "      <td>involucrados hospital casimiro ulloa suspendid...</td>\n",
       "      <td>doctor juan luis herrera director general oper...</td>\n",
       "    </tr>\n",
       "    <tr>\n",
       "      <th>4</th>\n",
       "      <td>lima</td>\n",
       "      <td>redacción perú21</td>\n",
       "      <td>reaccionó john galliquio cuestionado denuncia ...</td>\n",
       "      <td>exjugador selección peruana reapareció mostró ...</td>\n",
       "      <td>john galliquio exjugador selección peruana apa...</td>\n",
       "    </tr>\n",
       "  </tbody>\n",
       "</table>\n",
       "</div>"
      ],
      "text/plain": [
       "   Categoria             Autor  \\\n",
       "0  farándula  redacción perú21   \n",
       "1       perú  redacción perú21   \n",
       "2   política  redacción perú21   \n",
       "3       lima  redacción perú21   \n",
       "4       lima  redacción perú21   \n",
       "\n",
       "                                              Titulo  \\\n",
       "0  fiorella rodríguez presentó dueño corazón mese...   \n",
       "1  sujeto arrojó thinner padre 68 años prendió fu...   \n",
       "2  luis bedoya reyes llama abogados juristas inte...   \n",
       "3  separan responsables difundir fotos expresiden...   \n",
       "4  reaccionó john galliquio cuestionado denuncia ...   \n",
       "\n",
       "                                             Resumen  \\\n",
       "0  conductora sorprendió fanáticos fotos amor red...   \n",
       "1  joven negó incendiado padre víctima graves que...   \n",
       "2  político 100 años pronunció importancia postul...   \n",
       "3  involucrados hospital casimiro ulloa suspendid...   \n",
       "4  exjugador selección peruana reapareció mostró ...   \n",
       "\n",
       "                                           Contenido  \n",
       "0  presentadora exjurado artista año fiorella rod...  \n",
       "1  wandherlay enriquez luque 25 detenido arrojado...  \n",
       "2  luis bedoya reyes fundadores históricos partid...  \n",
       "3  doctor juan luis herrera director general oper...  \n",
       "4  john galliquio exjugador selección peruana apa...  "
      ]
     },
     "execution_count": 6,
     "metadata": {},
     "output_type": "execute_result"
    }
   ],
   "source": [
    "import pandas as pd\n",
    "df = pd.read_csv('complete_clean_news.csv')\n",
    "df.drop(df.columns[0],axis=1,inplace=True)\n",
    "df.head()"
   ]
  },
  {
   "cell_type": "markdown",
   "metadata": {},
   "source": [
    "## Make Corpus"
   ]
  },
  {
   "cell_type": "code",
   "execution_count": 9,
   "metadata": {},
   "outputs": [],
   "source": [
    "import numpy as np\n",
    "\n",
    "df_full = df.dropna()\n",
    "da = df_full['Titulo']\n",
    "db = df_full['Contenido']\n",
    "dfinal = db.append(da)\n",
    "np.savetxt('corpus_general_news.txt',dfinal, fmt='%s', encoding='utf_8')"
   ]
  },
  {
   "cell_type": "markdown",
   "metadata": {},
   "source": [
    "## Etiquete"
   ]
  },
  {
   "cell_type": "code",
   "execution_count": 12,
   "metadata": {
    "scrolled": true
   },
   "outputs": [
    {
     "data": {
      "text/plain": [
       "deportes                                                       7124\n",
       "política                                                       7001\n",
       "actualidad                                                     6491\n",
       "fútbol mundial                                                 5916\n",
       "mundo                                                          5349\n",
       "lima                                                           5230\n",
       "perú                                                           4845\n",
       "economía                                                       3674\n",
       "espectáculos internacional                                     3669\n",
       "espectaculos                                                   2776\n",
       "celebrities                                                    2683\n",
       "farándula                                                      2638\n",
       "fútbol internacional                                           2424\n",
       "none                                                           2107\n",
       "deporte                                                        1800\n",
       "selección peruana                                              1776\n",
       "videojuegos                                                    1627\n",
       "judiciales                                                     1559\n",
       "series                                                         1450\n",
       "espectáculos                                                   1346\n",
       "descentralizado                                                1299\n",
       "facebook                                                       1298\n",
       "fútbol peruano                                                 1267\n",
       "sucesos                                                        1236\n",
       "policiales                                                     1234\n",
       "cine                                                           1219\n",
       "congreso                                                       1218\n",
       "latinoamérica                                                  1111\n",
       "peruanos mundo                                                 1045\n",
       "unidos                                                         1039\n",
       "                                                               ... \n",
       "jean dueñas                                                       1\n",
       "míºsica                                                           1\n",
       "biología                                                          1\n",
       "banda formada 1994 inglaterra llega lima                          1\n",
       "programación                                                      1\n",
       "rob reyna                                                         1\n",
       "armamentismo                                                      1\n",
       "columnistasivan krastev ikrastevcomerciocompe                     1\n",
       "rusia 2018                                                        1\n",
       "seiyi kohayagawa                                                  1\n",
       "gráfico                                                           1\n",
       "michael livia                                                     1\n",
       "informes21                                                        1\n",
       "columnistasbjørn lomborg blomborgcomerciocompe                    1\n",
       "entrevista                                                        1\n",
       "videos                                                            1\n",
       "wuf                                                               1\n",
       "pareja prepara boda lunes 30 septiembre carolina sur unidos       1\n",
       "melissa barrenechea                                               1\n",
       "ganadores                                                         1\n",
       "leandro mariátegui                                                1\n",
       "amã©rica                                                          1\n",
       "economã­a                                                         1\n",
       "trotamundos                                                       1\n",
       "efemí©rides                                                       1\n",
       "mas trendy                                                        1\n",
       "oea                                                               1\n",
       "julio escalante                                                   1\n",
       "automovilismo                                                     1\n",
       "estilo vida                                                       1\n",
       "Name: Categoria, Length: 442, dtype: int64"
      ]
     },
     "execution_count": 12,
     "metadata": {},
     "output_type": "execute_result"
    }
   ],
   "source": [
    "df_full['Categoria'].value_counts()\n"
   ]
  },
  {
   "cell_type": "code",
   "execution_count": 20,
   "metadata": {},
   "outputs": [
    {
     "data": {
      "text/html": [
       "<div>\n",
       "<style scoped>\n",
       "    .dataframe tbody tr th:only-of-type {\n",
       "        vertical-align: middle;\n",
       "    }\n",
       "\n",
       "    .dataframe tbody tr th {\n",
       "        vertical-align: top;\n",
       "    }\n",
       "\n",
       "    .dataframe thead th {\n",
       "        text-align: right;\n",
       "    }\n",
       "</style>\n",
       "<table border=\"1\" class=\"dataframe\">\n",
       "  <thead>\n",
       "    <tr style=\"text-align: right;\">\n",
       "      <th></th>\n",
       "      <th>Categoria</th>\n",
       "      <th>Autor</th>\n",
       "      <th>Titulo</th>\n",
       "      <th>Resumen</th>\n",
       "      <th>Contenido</th>\n",
       "    </tr>\n",
       "  </thead>\n",
       "  <tbody>\n",
       "    <tr>\n",
       "      <th>5</th>\n",
       "      <td>deportes</td>\n",
       "      <td>redacción perú21</td>\n",
       "      <td>silvio valencia hinchas sport boys pagar entra...</td>\n",
       "      <td>comentarista deportivo generó indignación afir...</td>\n",
       "      <td>duras críticas viene recibiendo comentarista d...</td>\n",
       "    </tr>\n",
       "    <tr>\n",
       "      <th>10</th>\n",
       "      <td>deportes</td>\n",
       "      <td>mijail palacios</td>\n",
       "      <td>mallory aco deportista carrera académica</td>\n",
       "      <td>alumnos enseño respeto responsabilidad técnica...</td>\n",
       "      <td>mallory aco logró medalla 39 coronó participac...</td>\n",
       "    </tr>\n",
       "    <tr>\n",
       "      <th>88</th>\n",
       "      <td>deportes</td>\n",
       "      <td>estefania chau</td>\n",
       "      <td>falta barcelona</td>\n",
       "      <td>azulgranas sumado puntos quince disputados acu...</td>\n",
       "      <td>sábado barcelona jugador mundo lionel messi mi...</td>\n",
       "    </tr>\n",
       "    <tr>\n",
       "      <th>217</th>\n",
       "      <td>deportes</td>\n",
       "      <td>redacción perú21</td>\n",
       "      <td>gaby pérez solar salud man bok park lamentable...</td>\n",
       "      <td>exvoleibolista refirió situación crítica atrav...</td>\n",
       "      <td>momentos difíciles exvoleibolista gaby pérez s...</td>\n",
       "    </tr>\n",
       "    <tr>\n",
       "      <th>291</th>\n",
       "      <td>deportes</td>\n",
       "      <td>estéfano matta</td>\n",
       "      <td>caliente barreras deporte peruano</td>\n",
       "      <td>cristopher bayona demostrando ganas talento co...</td>\n",
       "      <td>meses cristopher bayona dudas certezas campeón...</td>\n",
       "    </tr>\n",
       "  </tbody>\n",
       "</table>\n",
       "</div>"
      ],
      "text/plain": [
       "    Categoria             Autor  \\\n",
       "5    deportes  redacción perú21   \n",
       "10   deportes   mijail palacios   \n",
       "88   deportes    estefania chau   \n",
       "217  deportes  redacción perú21   \n",
       "291  deportes    estéfano matta   \n",
       "\n",
       "                                                Titulo  \\\n",
       "5    silvio valencia hinchas sport boys pagar entra...   \n",
       "10            mallory aco deportista carrera académica   \n",
       "88                                     falta barcelona   \n",
       "217  gaby pérez solar salud man bok park lamentable...   \n",
       "291                  caliente barreras deporte peruano   \n",
       "\n",
       "                                               Resumen  \\\n",
       "5    comentarista deportivo generó indignación afir...   \n",
       "10   alumnos enseño respeto responsabilidad técnica...   \n",
       "88   azulgranas sumado puntos quince disputados acu...   \n",
       "217  exvoleibolista refirió situación crítica atrav...   \n",
       "291  cristopher bayona demostrando ganas talento co...   \n",
       "\n",
       "                                             Contenido  \n",
       "5    duras críticas viene recibiendo comentarista d...  \n",
       "10   mallory aco logró medalla 39 coronó participac...  \n",
       "88   sábado barcelona jugador mundo lionel messi mi...  \n",
       "217  momentos difíciles exvoleibolista gaby pérez s...  \n",
       "291  meses cristopher bayona dudas certezas campeón...  "
      ]
     },
     "execution_count": 20,
     "metadata": {},
     "output_type": "execute_result"
    }
   ],
   "source": [
    "d1 = df_full.loc[df_full['Categoria']=='deportes']\n",
    "d2 = df_full.loc[df_full['Categoria']=='política']\n",
    "d3 = df_full.loc[df_full['Categoria']=='espectaculos']\n",
    "d4 = df_full.loc[df_full['Categoria']=='espectáculos internacional']\n",
    "d5 = df_full.loc[df_full['Categoria']=='celebrities']\n",
    "d12 = d1.append(d2)\n",
    "d13 = d12.append(d3)\n",
    "d14 = d13.append(d4)\n",
    "dfinal = d14.append(d5)\n",
    "dfinal.head()"
   ]
  },
  {
   "cell_type": "code",
   "execution_count": 21,
   "metadata": {
    "scrolled": false
   },
   "outputs": [
    {
     "data": {
      "text/plain": [
       "deportes                      7124\n",
       "política                      7001\n",
       "espectáculos internacional    3669\n",
       "espectaculos                  2776\n",
       "celebrities                   2683\n",
       "Name: Categoria, dtype: int64"
      ]
     },
     "execution_count": 21,
     "metadata": {},
     "output_type": "execute_result"
    }
   ],
   "source": [
    "dfinal['Categoria'].value_counts()"
   ]
  },
  {
   "cell_type": "code",
   "execution_count": 22,
   "metadata": {},
   "outputs": [],
   "source": [
    "dfinal['target'] = dfinal['Categoria']\n",
    "dfinal.loc[dfinal['Categoria'] == 'deportes','target'] = 0\n",
    "dfinal.loc[dfinal['Categoria'] == 'política','target'] = 1\n",
    "dfinal.loc[dfinal['Categoria'] == 'espectáculos internacional','target'] = 2\n",
    "dfinal.loc[dfinal['Categoria'] == 'espectaculos','target'] = 2\n",
    "dfinal.loc[dfinal['Categoria'] == 'celebrities','target'] = 2"
   ]
  },
  {
   "cell_type": "code",
   "execution_count": 23,
   "metadata": {},
   "outputs": [
    {
     "data": {
      "text/plain": [
       "2    9128\n",
       "0    7124\n",
       "1    7001\n",
       "Name: target, dtype: int64"
      ]
     },
     "execution_count": 23,
     "metadata": {},
     "output_type": "execute_result"
    }
   ],
   "source": [
    "dfinal['target'].value_counts()"
   ]
  },
  {
   "cell_type": "code",
   "execution_count": 24,
   "metadata": {},
   "outputs": [],
   "source": [
    "dfinal.to_csv('label_data_news.csv',encoding='utf_8')"
   ]
  }
 ],
 "metadata": {
  "kernelspec": {
   "display_name": "Python 3",
   "language": "python",
   "name": "python3"
  },
  "language_info": {
   "codemirror_mode": {
    "name": "ipython",
    "version": 3
   },
   "file_extension": ".py",
   "mimetype": "text/x-python",
   "name": "python",
   "nbconvert_exporter": "python",
   "pygments_lexer": "ipython3",
   "version": "3.7.0"
  }
 },
 "nbformat": 4,
 "nbformat_minor": 2
}
