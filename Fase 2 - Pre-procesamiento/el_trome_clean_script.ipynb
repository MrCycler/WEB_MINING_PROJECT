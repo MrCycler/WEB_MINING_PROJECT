{
 "cells": [
  {
   "cell_type": "markdown",
   "metadata": {
    "colab_type": "text",
    "id": "i8bp1rZM9sDe"
   },
   "source": [
    "# Pre-procesamiento de la data"
   ]
  },
  {
   "cell_type": "markdown",
   "metadata": {
    "colab_type": "text",
    "id": "l3G6WGBy9y4l"
   },
   "source": [
    "## 0. Importacion de Librerias"
   ]
  },
  {
   "cell_type": "code",
   "execution_count": 1,
   "metadata": {
    "colab": {},
    "colab_type": "code",
    "id": "XENCh9Uk9gMY"
   },
   "outputs": [],
   "source": [
    "import pandas as pd\n",
    "import nltk\n",
    "import cleaning_library as cl\n",
    "import string\n",
    "import numpy as np\n",
    "from nltk.corpus import stopwords"
   ]
  },
  {
   "cell_type": "code",
   "execution_count": 2,
   "metadata": {
    "colab": {
     "base_uri": "https://localhost:8080/",
     "height": 68
    },
    "colab_type": "code",
    "executionInfo": {
     "elapsed": 747,
     "status": "ok",
     "timestamp": 1569688606016,
     "user": {
      "displayName": "José Guillermo Balbuena Galván",
      "photoUrl": "https://lh3.googleusercontent.com/a-/AAuE7mCGnb60pyG7fUu37s0lj6k0l4UP5sEsyjH50iJF=s64",
      "userId": "13249900897807099447"
     },
     "user_tz": 300
    },
    "id": "IiHV8eGHj96p",
    "outputId": "c1b378da-eb5c-4ca4-b675-83fc70f754e2"
   },
   "outputs": [
    {
     "name": "stdout",
     "output_type": "stream",
     "text": [
      "[nltk_data] Downloading package stopwords to\n",
      "[nltk_data]     C:\\Users\\pc\\AppData\\Roaming\\nltk_data...\n",
      "[nltk_data]   Package stopwords is already up-to-date!\n"
     ]
    },
    {
     "data": {
      "text/plain": [
       "True"
      ]
     },
     "execution_count": 2,
     "metadata": {},
     "output_type": "execute_result"
    }
   ],
   "source": [
    "nltk.download('stopwords')"
   ]
  },
  {
   "cell_type": "markdown",
   "metadata": {
    "colab_type": "text",
    "id": "boGCKMxVtESl"
   },
   "source": [
    "## 1. Carga del archivo CSV"
   ]
  },
  {
   "cell_type": "code",
   "execution_count": 3,
   "metadata": {
    "colab": {
     "base_uri": "https://localhost:8080/",
     "height": 306
    },
    "colab_type": "code",
    "executionInfo": {
     "elapsed": 934,
     "status": "ok",
     "timestamp": 1569688607715,
     "user": {
      "displayName": "José Guillermo Balbuena Galván",
      "photoUrl": "https://lh3.googleusercontent.com/a-/AAuE7mCGnb60pyG7fUu37s0lj6k0l4UP5sEsyjH50iJF=s64",
      "userId": "13249900897807099447"
     },
     "user_tz": 300
    },
    "id": "QSzIV084bJLd",
    "outputId": "a5c936e3-fc28-40c0-e1f2-1a17f0520a10"
   },
   "outputs": [
    {
     "data": {
      "text/html": [
       "<div>\n",
       "<style scoped>\n",
       "    .dataframe tbody tr th:only-of-type {\n",
       "        vertical-align: middle;\n",
       "    }\n",
       "\n",
       "    .dataframe tbody tr th {\n",
       "        vertical-align: top;\n",
       "    }\n",
       "\n",
       "    .dataframe thead th {\n",
       "        text-align: right;\n",
       "    }\n",
       "</style>\n",
       "<table border=\"1\" class=\"dataframe\">\n",
       "  <thead>\n",
       "    <tr style=\"text-align: right;\">\n",
       "      <th></th>\n",
       "      <th>Unnamed: 0</th>\n",
       "      <th>Titulo</th>\n",
       "      <th>Autor</th>\n",
       "      <th>Resumen</th>\n",
       "      <th>Contenido</th>\n",
       "      <th>Categoria</th>\n",
       "      <th>Fecha</th>\n",
       "    </tr>\n",
       "  </thead>\n",
       "  <tbody>\n",
       "    <tr>\n",
       "      <th>0</th>\n",
       "      <td>0</td>\n",
       "      <td>Cinco pasos para el cuidado del cabello: Usa l...</td>\n",
       "      <td>Francesca Bravo</td>\n",
       "      <td>No laves tu  cabello  todos los días y así evi...</td>\n",
       "      <td>['El deseo de toda mujer es lucir un cabello e...</td>\n",
       "      <td>Más Mujer</td>\n",
       "      <td>2019-09-22 23:53:00</td>\n",
       "    </tr>\n",
       "    <tr>\n",
       "      <th>1</th>\n",
       "      <td>1</td>\n",
       "      <td>Emmy 2019: \"Game of Thrones\" se despidió de lo...</td>\n",
       "      <td>Redacción Trome</td>\n",
       "      <td>GOT   le dijo adiós a los premios  Emmy 2019 ...</td>\n",
       "      <td>['El elenco de \"Game of Thrones\"   se unió hoy...</td>\n",
       "      <td>Celebrities</td>\n",
       "      <td>2019-09-22 23:21:00</td>\n",
       "    </tr>\n",
       "    <tr>\n",
       "      <th>2</th>\n",
       "      <td>2</td>\n",
       "      <td>Batman Day: La batiseñal fue encendida en las ...</td>\n",
       "      <td>Redacción Trome</td>\n",
       "      <td>En celebración a los 80 años de Batman  , la b...</td>\n",
       "      <td>[\"La popular batiseñal, que sirve para llamar ...</td>\n",
       "      <td>Mundo</td>\n",
       "      <td>2019-09-22 23:16:00</td>\n",
       "    </tr>\n",
       "    <tr>\n",
       "      <th>3</th>\n",
       "      <td>3</td>\n",
       "      <td>Justin Bieber: Hailey Baldwin explica por qué ...</td>\n",
       "      <td>Redacción Trome</td>\n",
       "      <td>La modelo se planteó seriamente seguir con su ...</td>\n",
       "      <td>['Hailey Baldwin  protagonizó la portada de la...</td>\n",
       "      <td>Celebrities</td>\n",
       "      <td>2019-09-21 23:54:00</td>\n",
       "    </tr>\n",
       "    <tr>\n",
       "      <th>4</th>\n",
       "      <td>4</td>\n",
       "      <td>Michelle Alexander da fuerte mensaje a Michell...</td>\n",
       "      <td>Redacción Trome</td>\n",
       "      <td>Michelle Alexander recomendó a Michelle Soifer...</td>\n",
       "      <td>[\" Michelle Alexander,  jurado de 'El artista ...</td>\n",
       "      <td>Espectaculos</td>\n",
       "      <td>2019-09-21 23:47:00</td>\n",
       "    </tr>\n",
       "  </tbody>\n",
       "</table>\n",
       "</div>"
      ],
      "text/plain": [
       "   Unnamed: 0                                             Titulo  \\\n",
       "0           0  Cinco pasos para el cuidado del cabello: Usa l...   \n",
       "1           1  Emmy 2019: \"Game of Thrones\" se despidió de lo...   \n",
       "2           2  Batman Day: La batiseñal fue encendida en las ...   \n",
       "3           3  Justin Bieber: Hailey Baldwin explica por qué ...   \n",
       "4           4  Michelle Alexander da fuerte mensaje a Michell...   \n",
       "\n",
       "               Autor                                            Resumen  \\\n",
       "0  Francesca Bravo    No laves tu  cabello  todos los días y así evi...   \n",
       "1  Redacción Trome     GOT   le dijo adiós a los premios  Emmy 2019 ...   \n",
       "2  Redacción Trome    En celebración a los 80 años de Batman  , la b...   \n",
       "3  Redacción Trome    La modelo se planteó seriamente seguir con su ...   \n",
       "4  Redacción Trome    Michelle Alexander recomendó a Michelle Soifer...   \n",
       "\n",
       "                                           Contenido      Categoria  \\\n",
       "0  ['El deseo de toda mujer es lucir un cabello e...     Más Mujer    \n",
       "1  ['El elenco de \"Game of Thrones\"   se unió hoy...   Celebrities    \n",
       "2  [\"La popular batiseñal, que sirve para llamar ...         Mundo    \n",
       "3  ['Hailey Baldwin  protagonizó la portada de la...   Celebrities    \n",
       "4  [\" Michelle Alexander,  jurado de 'El artista ...  Espectaculos    \n",
       "\n",
       "                 Fecha  \n",
       "0  2019-09-22 23:53:00  \n",
       "1  2019-09-22 23:21:00  \n",
       "2  2019-09-22 23:16:00  \n",
       "3  2019-09-21 23:54:00  \n",
       "4  2019-09-21 23:47:00  "
      ]
     },
     "execution_count": 3,
     "metadata": {},
     "output_type": "execute_result"
    }
   ],
   "source": [
    "df_articulos = pd.read_csv('el_trome_1y_scrap.csv')\n",
    "df_articulos.head()"
   ]
  },
  {
   "cell_type": "markdown",
   "metadata": {
    "colab_type": "text",
    "id": "TH5HSjYztSJF"
   },
   "source": [
    "## 2. Limpieza y escritura de un nuevo DataFrame"
   ]
  },
  {
   "cell_type": "code",
   "execution_count": 4,
   "metadata": {},
   "outputs": [
    {
     "name": "stdout",
     "output_type": "stream",
     "text": [
      "[nltk_data] Downloading package stopwords to\n",
      "[nltk_data]     C:\\Users\\pc\\AppData\\Roaming\\nltk_data...\n",
      "[nltk_data]   Package stopwords is already up-to-date!\n"
     ]
    },
    {
     "data": {
      "text/html": [
       "<div>\n",
       "<style scoped>\n",
       "    .dataframe tbody tr th:only-of-type {\n",
       "        vertical-align: middle;\n",
       "    }\n",
       "\n",
       "    .dataframe tbody tr th {\n",
       "        vertical-align: top;\n",
       "    }\n",
       "\n",
       "    .dataframe thead th {\n",
       "        text-align: right;\n",
       "    }\n",
       "</style>\n",
       "<table border=\"1\" class=\"dataframe\">\n",
       "  <thead>\n",
       "    <tr style=\"text-align: right;\">\n",
       "      <th></th>\n",
       "      <th>Unnamed: 0</th>\n",
       "      <th>Titulo</th>\n",
       "      <th>Autor</th>\n",
       "      <th>Resumen</th>\n",
       "      <th>Contenido</th>\n",
       "      <th>Categoria</th>\n",
       "      <th>Fecha</th>\n",
       "    </tr>\n",
       "  </thead>\n",
       "  <tbody>\n",
       "    <tr>\n",
       "      <th>0</th>\n",
       "      <td>0</td>\n",
       "      <td>pasos cuidado cabello productos necesidades</td>\n",
       "      <td>francesca bravo</td>\n",
       "      <td>laves cabello días evitarás reseque</td>\n",
       "      <td>deseo mujer lucir cabello espectacular lograrl...</td>\n",
       "      <td>mujer</td>\n",
       "      <td>2019-09-22 23:53:00</td>\n",
       "    </tr>\n",
       "    <tr>\n",
       "      <th>1</th>\n",
       "      <td>1</td>\n",
       "      <td>emmy 2019 game of thrones despidió premios ele...</td>\n",
       "      <td>redacción trome</td>\n",
       "      <td>got adiós premios emmy 2019 recibiendo galardó...</td>\n",
       "      <td>elenco game of thrones unió escenario 71 edici...</td>\n",
       "      <td>celebrities</td>\n",
       "      <td>2019-09-22 23:21:00</td>\n",
       "    </tr>\n",
       "    <tr>\n",
       "      <th>2</th>\n",
       "      <td>2</td>\n",
       "      <td>batman day batiseñal encendida ciudades import...</td>\n",
       "      <td>redacción trome</td>\n",
       "      <td>celebración 80 años batman batiseñal encendida...</td>\n",
       "      <td>popular batiseñal sirve llamar héroe comics ba...</td>\n",
       "      <td>mundo</td>\n",
       "      <td>2019-09-22 23:16:00</td>\n",
       "    </tr>\n",
       "    <tr>\n",
       "      <th>3</th>\n",
       "      <td>3</td>\n",
       "      <td>justin bieber hailey baldwin explica punto div...</td>\n",
       "      <td>redacción trome</td>\n",
       "      <td>modelo planteó seriamente seguir relación dura...</td>\n",
       "      <td>hailey baldwin protagonizó portada revista vog...</td>\n",
       "      <td>celebrities</td>\n",
       "      <td>2019-09-21 23:54:00</td>\n",
       "    </tr>\n",
       "    <tr>\n",
       "      <th>4</th>\n",
       "      <td>4</td>\n",
       "      <td>michelle alexander fuerte mensaje michelle soi...</td>\n",
       "      <td>redacción trome</td>\n",
       "      <td>michelle alexander recomendó michelle soifer c...</td>\n",
       "      <td>michelle alexander jurado artista año fuerte m...</td>\n",
       "      <td>espectaculos</td>\n",
       "      <td>2019-09-21 23:47:00</td>\n",
       "    </tr>\n",
       "  </tbody>\n",
       "</table>\n",
       "</div>"
      ],
      "text/plain": [
       "   Unnamed: 0                                             Titulo  \\\n",
       "0           0        pasos cuidado cabello productos necesidades   \n",
       "1           1  emmy 2019 game of thrones despidió premios ele...   \n",
       "2           2  batman day batiseñal encendida ciudades import...   \n",
       "3           3  justin bieber hailey baldwin explica punto div...   \n",
       "4           4  michelle alexander fuerte mensaje michelle soi...   \n",
       "\n",
       "             Autor                                            Resumen  \\\n",
       "0  francesca bravo                laves cabello días evitarás reseque   \n",
       "1  redacción trome  got adiós premios emmy 2019 recibiendo galardó...   \n",
       "2  redacción trome  celebración 80 años batman batiseñal encendida...   \n",
       "3  redacción trome  modelo planteó seriamente seguir relación dura...   \n",
       "4  redacción trome  michelle alexander recomendó michelle soifer c...   \n",
       "\n",
       "                                           Contenido     Categoria  \\\n",
       "0  deseo mujer lucir cabello espectacular lograrl...         mujer   \n",
       "1  elenco game of thrones unió escenario 71 edici...   celebrities   \n",
       "2  popular batiseñal sirve llamar héroe comics ba...         mundo   \n",
       "3  hailey baldwin protagonizó portada revista vog...   celebrities   \n",
       "4  michelle alexander jurado artista año fuerte m...  espectaculos   \n",
       "\n",
       "                 Fecha  \n",
       "0  2019-09-22 23:53:00  \n",
       "1  2019-09-22 23:21:00  \n",
       "2  2019-09-22 23:16:00  \n",
       "3  2019-09-21 23:54:00  \n",
       "4  2019-09-21 23:47:00  "
      ]
     },
     "execution_count": 4,
     "metadata": {},
     "output_type": "execute_result"
    }
   ],
   "source": [
    "cl.limpiar_csv('el_trome_1y_scrap.csv','el_trome_1y_clean.csv')\n",
    "df_clean = pd.read_csv('el_trome_1y_clean.csv')\n",
    "df_clean.head()"
   ]
  },
  {
   "cell_type": "code",
   "execution_count": 5,
   "metadata": {},
   "outputs": [
    {
     "data": {
      "text/plain": [
       "'deseo mujer lucir cabello espectacular lograrlo importante melena lisa ondulada teñida grasa productos propiedades específicas asesoras aruma brindan consejos rutina permita lucir pelo sano suave radiante 1 limpieza   buscas combatir puntas abiertas utiliza champú contenga ingredientes hidratantes reparadores coco aceite argán laves cabeza días evitarás cabellera luzca seca opaca pierda fuerza 2 nutrición utiliza mascarillas semana elijas ten ingredientes componen cuáles necesitas nutrir hebras maltratadas funcionan argán plátano coco 3 brillo clave aplicar óleos capilares brillo previenen puntas resequen coloca par gotas manos aplícalo pelo seco medio puntas tocar raíces 4  peinado cabellos lisos puedes productos base keratina mantendrán hebras hidratadas cremas peinar bifásicos ayudarán desenredarlo 5 toque final disminuye frizz utilizando alisadora cabello liso sabías pelo grasoso sientes necesidad lavarlo días utiliza champú seco forma spray'"
      ]
     },
     "execution_count": 5,
     "metadata": {},
     "output_type": "execute_result"
    }
   ],
   "source": [
    "df_clean['Contenido'][0]"
   ]
  },
  {
   "cell_type": "code",
   "execution_count": 6,
   "metadata": {},
   "outputs": [
    {
     "data": {
      "text/plain": [
       "21970"
      ]
     },
     "execution_count": 6,
     "metadata": {},
     "output_type": "execute_result"
    }
   ],
   "source": [
    "len(df_clean)"
   ]
  },
  {
   "cell_type": "code",
   "execution_count": 7,
   "metadata": {},
   "outputs": [
    {
     "data": {
      "text/plain": [
       "21970"
      ]
     },
     "execution_count": 7,
     "metadata": {},
     "output_type": "execute_result"
    }
   ],
   "source": [
    "len(df_articulos)"
   ]
  },
  {
   "cell_type": "markdown",
   "metadata": {
    "colab": {},
    "colab_type": "code",
    "id": "rb8ZMkmekrNi"
   },
   "source": [
    "## Opcional para formar el corpus"
   ]
  },
  {
   "cell_type": "code",
   "execution_count": 6,
   "metadata": {
    "colab": {
     "base_uri": "https://localhost:8080/",
     "height": 1000
    },
    "colab_type": "code",
    "executionInfo": {
     "elapsed": 1082,
     "status": "ok",
     "timestamp": 1569688625279,
     "user": {
      "displayName": "José Guillermo Balbuena Galván",
      "photoUrl": "https://lh3.googleusercontent.com/a-/AAuE7mCGnb60pyG7fUu37s0lj6k0l4UP5sEsyjH50iJF=s64",
      "userId": "13249900897807099447"
     },
     "user_tz": 300
    },
    "id": "KhDV_hd2DJMK",
    "outputId": "6e468e3e-6ce2-4a73-f802-150d09123424"
   },
   "outputs": [
    {
     "name": "stderr",
     "output_type": "stream",
     "text": [
      "IOPub data rate exceeded.\n",
      "The notebook server will temporarily stop sending output\n",
      "to the client in order to avoid crashing it.\n",
      "To change this limit, set the config variable\n",
      "`--NotebookApp.iopub_data_rate_limit`.\n",
      "\n",
      "Current values:\n",
      "NotebookApp.iopub_data_rate_limit=1000000.0 (bytes/sec)\n",
      "NotebookApp.rate_limit_window=3.0 (secs)\n",
      "\n"
     ]
    }
   ],
   "source": [
    "df_full = df_articulos.dropna()\n",
    "txt = '\\n'.join(list(df_full['Contenido']))\n",
    "print(txt)\n",
    "\n",
    "np.savetxt('corpus_tromeyear.txt',df_full['Contenido'], fmt='%s', encoding='utf_8')"
   ]
  }
 ],
 "metadata": {
  "colab": {
   "name": "Limpieza de los articulos.ipynb",
   "provenance": [],
   "toc_visible": true
  },
  "kernelspec": {
   "display_name": "Python 3",
   "language": "python",
   "name": "python3"
  },
  "language_info": {
   "codemirror_mode": {
    "name": "ipython",
    "version": 3
   },
   "file_extension": ".py",
   "mimetype": "text/x-python",
   "name": "python",
   "nbconvert_exporter": "python",
   "pygments_lexer": "ipython3",
   "version": "3.7.0"
  }
 },
 "nbformat": 4,
 "nbformat_minor": 1
}
