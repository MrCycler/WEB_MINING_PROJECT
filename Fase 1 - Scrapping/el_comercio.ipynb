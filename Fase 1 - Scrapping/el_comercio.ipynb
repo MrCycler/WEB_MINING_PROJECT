{
 "cells": [
  {
   "cell_type": "code",
   "execution_count": null,
   "metadata": {},
   "outputs": [],
   "source": [
    "from bs4 import BeautifulSoup\n",
    "import base64\n",
    "import wget\n",
    "import requests\n",
    "import unicodecsv as csv\n",
    "import datetime"
   ]
  },
  {
   "cell_type": "code",
   "execution_count": null,
   "metadata": {},
   "outputs": [],
   "source": [
    "total_articles = [] # it will save all publications"
   ]
  },
  {
   "cell_type": "code",
   "execution_count": null,
   "metadata": {},
   "outputs": [],
   "source": [
    "## get days\n",
    "iterator_day = datetime.date(2019, 9, 3)\n",
    "last_publication = datetime.date(2014, 1, 1)"
   ]
  },
  {
   "cell_type": "code",
   "execution_count": null,
   "metadata": {},
   "outputs": [],
   "source": [
    "array_days = [str(iterator_day)]\n",
    "while(iterator_day >= last_publication):\n",
    "    iterator_day = iterator_day - datetime.timedelta(days=1)\n",
    "    array_days.append(str(iterator_day))"
   ]
  },
  {
   "cell_type": "code",
   "execution_count": null,
   "metadata": {},
   "outputs": [],
   "source": [
    "def save_csv(articles):\n",
    "    with open('el_comercio.csv', 'wb') as f:\n",
    "            dict_writer = csv.DictWriter(\n",
    "                f,\n",
    "                [\n",
    "                    'Titulo',\n",
    "                    'Resumen',\n",
    "                    'Categoria', \n",
    "                    'Autor', \n",
    "                    'Fecha', \n",
    "                    'Contenido', \n",
    "                    'Etiquetas',\n",
    "                    'Enlace'\n",
    "                ],\n",
    "                encoding='utf-8')\n",
    "            dict_writer.writeheader()\n",
    "            dict_writer.writerows(articles)"
   ]
  },
  {
   "cell_type": "code",
   "execution_count": null,
   "metadata": {},
   "outputs": [],
   "source": [
    "def get_title(content_soup):\n",
    "    if content_soup.find('h1', {'class': 'news-title'}) is not None:\n",
    "        return content_soup.find('h1', {'class': 'news-title'}).text\n",
    "    \n",
    "    return;"
   ]
  },
  {
   "cell_type": "code",
   "execution_count": null,
   "metadata": {},
   "outputs": [],
   "source": [
    "def get_summary(content_soup):\n",
    "    if content_soup.find('h2', {'class': 'news-summary'}) is not None:\n",
    "        return content_soup.find('h2', {'class': 'news-summary'}).text\n",
    "    \n",
    "    return;"
   ]
  },
  {
   "cell_type": "code",
   "execution_count": null,
   "metadata": {},
   "outputs": [],
   "source": [
    "def get_category(content_soup):\n",
    "    if content_soup.find('h3', {'class': 'news-category fija'}) is not None:\n",
    "        if content_soup.find('h3', {'class': 'news-category fija'}).find('a') is not None:\n",
    "            return content_soup.find('h3', {'class': 'news-category fija'}).find('a').text\n",
    "    \n",
    "    return;"
   ]
  },
  {
   "cell_type": "code",
   "execution_count": null,
   "metadata": {},
   "outputs": [],
   "source": [
    "def get_author(content_soup):\n",
    "    if content_soup.find('div', {'class': 'news-author-date'}) is not None:\n",
    "        if content_soup.find('div', {'class': 'news-author-date'}).find('a') is not None:\n",
    "            if content_soup.find('div', {'class': 'news-author-date'}).find('a').find('span') is not None:\n",
    "                return content_soup.find('div', {'class': 'news-author-date'}).find('a').find('span').text\n",
    "    \n",
    "    return;"
   ]
  },
  {
   "cell_type": "code",
   "execution_count": null,
   "metadata": {},
   "outputs": [],
   "source": [
    "def get_date(content_soup):\n",
    "    if content_soup.find('div', {'class': 'news-author-date'}) is not None:\n",
    "        if content_soup.find('div', {'class': 'news-author-date'}).find('time') is not None:\n",
    "            return content_soup.find('div', {'class': 'news-author-date'}).find('time')['datetime']\n",
    "    \n",
    "    return;"
   ]
  },
  {
   "cell_type": "code",
   "execution_count": null,
   "metadata": {},
   "outputs": [],
   "source": [
    "def get_content(content_soup):\n",
    "    if content_soup.find('div', {'class': 'news-text-content'}) is not None:\n",
    "        if len(content_soup.find('div', {'class': 'news-text-content'}).findAll('p', {'class': 'parrafo'})) > 0:\n",
    "            return content_soup.find('div', {'class': 'news-text-content'}).findAll('p', {'class': 'parrafo'})\n",
    "    \n",
    "    return [];"
   ]
  },
  {
   "cell_type": "code",
   "execution_count": null,
   "metadata": {},
   "outputs": [],
   "source": [
    "def get_tags(content_soup):\n",
    "    if len(content_soup.findAll('h2', {'class': 'tags-item'})) > 0:\n",
    "        return content_soup.findAll('h2', {'class': 'tags-item'})\n",
    "    \n",
    "    return [];"
   ]
  },
  {
   "cell_type": "code",
   "execution_count": null,
   "metadata": {},
   "outputs": [],
   "source": [
    "def interate_articles_and_save(articles):\n",
    "    cont = 0\n",
    "    for article in articles:\n",
    "        print('-------------------- Article ----------------------')\n",
    "        url_article = 'https://elcomercio.pe' + article.find('a', {'class': 'page-link'})['href']\n",
    "        content_article = requests.get(url_article).content\n",
    "        soup_article = BeautifulSoup(content_article,'lxml')\n",
    "        print(\"URL Article===>\" + str(url_article))\n",
    "        \n",
    "        title = get_title(soup_article)\n",
    "        summary = get_summary(soup_article)\n",
    "        category = get_category(soup_article)\n",
    "        author = get_author(soup_article)\n",
    "        date = get_date(soup_article)\n",
    "        text_content = get_content(soup_article)\n",
    "        content_article = []\n",
    "        for text in text_content:    \n",
    "            content_article.append(text.text)\n",
    "\n",
    "        tags_article = get_tags(soup_article)\n",
    "        tags = []\n",
    "        for tag in tags_article:\n",
    "            tags.append(tag.text)\n",
    "\n",
    "        total_articles.extend([\n",
    "            {\n",
    "                'Titulo':str(title), \n",
    "                'Resumen': str(summary), \n",
    "                'Categoria':str(category), \n",
    "                'Autor':str(author),\n",
    "                'Fecha':str(date),\n",
    "                'Contenido':str(content_article),\n",
    "                'Etiquetas':str(tags),\n",
    "                'Enlace':url_article\n",
    "            }\n",
    "        ])\n",
    "        save_csv(total_articles)\n",
    "        cont = cont + 1\n",
    "        print('-----------------------------------  ' + str(cont*100/len(articles)) + \"%\")\n",
    "        print('-------------------- End Article ----------------------')"
   ]
  },
  {
   "cell_type": "code",
   "execution_count": null,
   "metadata": {},
   "outputs": [],
   "source": [
    "def iterate_publications(days):\n",
    "    for day in days:\n",
    "        print('-------------------- Day ----------------------')\n",
    "        url_day = 'https://elcomercio.pe/archivo/todas/' + day\n",
    "        content_day = requests.get(url_day).content\n",
    "        soup_day = BeautifulSoup(content_day,'lxml')\n",
    "        print(\"URL Day===>\" + str(url_day))\n",
    "        \n",
    "        articles_day = soup_day.findAll('article', {'class' : 'section-flow'})\n",
    "        try:\n",
    "            interate_articles_and_save(articles_day)\n",
    "        except:\n",
    "            print('Error para obtener pagina====> ' + url_day)\n",
    "        print('-------------------- End Day ----------------------')"
   ]
  },
  {
   "cell_type": "code",
   "execution_count": null,
   "metadata": {},
   "outputs": [],
   "source": [
    "iterate_publications(array_days)"
   ]
  },
  {
   "cell_type": "code",
   "execution_count": null,
   "metadata": {},
   "outputs": [],
   "source": []
  }
 ],
 "metadata": {
  "kernelspec": {
   "display_name": "Python 3",
   "language": "python",
   "name": "python3"
  },
  "language_info": {
   "codemirror_mode": {
    "name": "ipython",
    "version": 3
   },
   "file_extension": ".py",
   "mimetype": "text/x-python",
   "name": "python",
   "nbconvert_exporter": "python",
   "pygments_lexer": "ipython3",
   "version": "3.7.1"
  }
 },
 "nbformat": 4,
 "nbformat_minor": 2
}
