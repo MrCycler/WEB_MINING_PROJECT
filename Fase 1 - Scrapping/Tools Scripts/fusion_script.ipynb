{
 "cells": [
  {
   "cell_type": "code",
   "execution_count": 10,
   "metadata": {},
   "outputs": [],
   "source": [
    "import pandas as pd"
   ]
  },
  {
   "cell_type": "code",
   "execution_count": 11,
   "metadata": {},
   "outputs": [],
   "source": [
    "df1 = pd.read_csv('el_trome.csv')"
   ]
  },
  {
   "cell_type": "code",
   "execution_count": 12,
   "metadata": {},
   "outputs": [],
   "source": [
    "df2 = pd.read_csv('el_trome2.csv')"
   ]
  },
  {
   "cell_type": "code",
   "execution_count": 13,
   "metadata": {},
   "outputs": [
    {
     "data": {
      "text/html": [
       "<div>\n",
       "<style scoped>\n",
       "    .dataframe tbody tr th:only-of-type {\n",
       "        vertical-align: middle;\n",
       "    }\n",
       "\n",
       "    .dataframe tbody tr th {\n",
       "        vertical-align: top;\n",
       "    }\n",
       "\n",
       "    .dataframe thead th {\n",
       "        text-align: right;\n",
       "    }\n",
       "</style>\n",
       "<table border=\"1\" class=\"dataframe\">\n",
       "  <thead>\n",
       "    <tr style=\"text-align: right;\">\n",
       "      <th></th>\n",
       "      <th>Titulo</th>\n",
       "      <th>Autor</th>\n",
       "      <th>Resumen</th>\n",
       "      <th>Contenido</th>\n",
       "      <th>Categoria</th>\n",
       "      <th>Fecha</th>\n",
       "    </tr>\n",
       "  </thead>\n",
       "  <tbody>\n",
       "    <tr>\n",
       "      <th>0</th>\n",
       "      <td>Cinco pasos para el cuidado del cabello: Usa l...</td>\n",
       "      <td>Francesca Bravo</td>\n",
       "      <td>No laves tu  cabello  todos los días y así evi...</td>\n",
       "      <td>['El deseo de toda mujer es lucir un cabello e...</td>\n",
       "      <td>Más Mujer</td>\n",
       "      <td>2019-09-22 23:53:00</td>\n",
       "    </tr>\n",
       "    <tr>\n",
       "      <th>1</th>\n",
       "      <td>Emmy 2019: \"Game of Thrones\" se despidió de lo...</td>\n",
       "      <td>Redacción Trome</td>\n",
       "      <td>GOT   le dijo adiós a los premios  Emmy 2019 ...</td>\n",
       "      <td>['El elenco de \"Game of Thrones\"   se unió hoy...</td>\n",
       "      <td>Celebrities</td>\n",
       "      <td>2019-09-22 23:21:00</td>\n",
       "    </tr>\n",
       "    <tr>\n",
       "      <th>2</th>\n",
       "      <td>Batman Day: La batiseñal fue encendida en las ...</td>\n",
       "      <td>Redacción Trome</td>\n",
       "      <td>En celebración a los 80 años de Batman  , la b...</td>\n",
       "      <td>[\"La popular batiseñal, que sirve para llamar ...</td>\n",
       "      <td>Mundo</td>\n",
       "      <td>2019-09-22 23:16:00</td>\n",
       "    </tr>\n",
       "    <tr>\n",
       "      <th>3</th>\n",
       "      <td>Justin Bieber: Hailey Baldwin explica por qué ...</td>\n",
       "      <td>Redacción Trome</td>\n",
       "      <td>La modelo se planteó seriamente seguir con su ...</td>\n",
       "      <td>['Hailey Baldwin  protagonizó la portada de la...</td>\n",
       "      <td>Celebrities</td>\n",
       "      <td>2019-09-21 23:54:00</td>\n",
       "    </tr>\n",
       "    <tr>\n",
       "      <th>4</th>\n",
       "      <td>Michelle Alexander da fuerte mensaje a Michell...</td>\n",
       "      <td>Redacción Trome</td>\n",
       "      <td>Michelle Alexander recomendó a Michelle Soifer...</td>\n",
       "      <td>[\" Michelle Alexander,  jurado de 'El artista ...</td>\n",
       "      <td>Espectaculos</td>\n",
       "      <td>2019-09-21 23:47:00</td>\n",
       "    </tr>\n",
       "  </tbody>\n",
       "</table>\n",
       "</div>"
      ],
      "text/plain": [
       "                                              Titulo              Autor  \\\n",
       "0  Cinco pasos para el cuidado del cabello: Usa l...  Francesca Bravo     \n",
       "1  Emmy 2019: \"Game of Thrones\" se despidió de lo...  Redacción Trome     \n",
       "2  Batman Day: La batiseñal fue encendida en las ...  Redacción Trome     \n",
       "3  Justin Bieber: Hailey Baldwin explica por qué ...  Redacción Trome     \n",
       "4  Michelle Alexander da fuerte mensaje a Michell...  Redacción Trome     \n",
       "\n",
       "                                             Resumen  \\\n",
       "0  No laves tu  cabello  todos los días y así evi...   \n",
       "1   GOT   le dijo adiós a los premios  Emmy 2019 ...   \n",
       "2  En celebración a los 80 años de Batman  , la b...   \n",
       "3  La modelo se planteó seriamente seguir con su ...   \n",
       "4  Michelle Alexander recomendó a Michelle Soifer...   \n",
       "\n",
       "                                           Contenido      Categoria  \\\n",
       "0  ['El deseo de toda mujer es lucir un cabello e...     Más Mujer    \n",
       "1  ['El elenco de \"Game of Thrones\"   se unió hoy...   Celebrities    \n",
       "2  [\"La popular batiseñal, que sirve para llamar ...         Mundo    \n",
       "3  ['Hailey Baldwin  protagonizó la portada de la...   Celebrities    \n",
       "4  [\" Michelle Alexander,  jurado de 'El artista ...  Espectaculos    \n",
       "\n",
       "                 Fecha  \n",
       "0  2019-09-22 23:53:00  \n",
       "1  2019-09-22 23:21:00  \n",
       "2  2019-09-22 23:16:00  \n",
       "3  2019-09-21 23:54:00  \n",
       "4  2019-09-21 23:47:00  "
      ]
     },
     "execution_count": 13,
     "metadata": {},
     "output_type": "execute_result"
    }
   ],
   "source": [
    "df1.head()"
   ]
  },
  {
   "cell_type": "code",
   "execution_count": 14,
   "metadata": {},
   "outputs": [
    {
     "data": {
      "text/html": [
       "<div>\n",
       "<style scoped>\n",
       "    .dataframe tbody tr th:only-of-type {\n",
       "        vertical-align: middle;\n",
       "    }\n",
       "\n",
       "    .dataframe tbody tr th {\n",
       "        vertical-align: top;\n",
       "    }\n",
       "\n",
       "    .dataframe thead th {\n",
       "        text-align: right;\n",
       "    }\n",
       "</style>\n",
       "<table border=\"1\" class=\"dataframe\">\n",
       "  <thead>\n",
       "    <tr style=\"text-align: right;\">\n",
       "      <th></th>\n",
       "      <th>Titulo</th>\n",
       "      <th>Autor</th>\n",
       "      <th>Resumen</th>\n",
       "      <th>Contenido</th>\n",
       "      <th>Categoria</th>\n",
       "      <th>Fecha</th>\n",
       "    </tr>\n",
       "  </thead>\n",
       "  <tbody>\n",
       "    <tr>\n",
       "      <th>0</th>\n",
       "      <td>Angie Jibaja estalló en llanto y mandó un mens...</td>\n",
       "      <td>Redacción Trome</td>\n",
       "      <td>Angie Jibaja  sorprendió a sus seguidores con...</td>\n",
       "      <td>[' Angie Jibaja  preocupa a todos. La modelo h...</td>\n",
       "      <td>Espectaculos</td>\n",
       "      <td>2018-12-30 23:35:00</td>\n",
       "    </tr>\n",
       "    <tr>\n",
       "      <th>1</th>\n",
       "      <td>Huacho: Venezolana fue tomada como rehén duran...</td>\n",
       "      <td>Redacción Trome</td>\n",
       "      <td>Una mesera venezolana vivió minutos de terror ...</td>\n",
       "      <td>['Casi no la cuenta. Una mesera venezolana viv...</td>\n",
       "      <td>Actualidad</td>\n",
       "      <td>2018-12-30 22:18:00</td>\n",
       "    </tr>\n",
       "    <tr>\n",
       "      <th>2</th>\n",
       "      <td>Arequipa: Obrero se prende fuego delante de no...</td>\n",
       "      <td>Regionales Trome</td>\n",
       "      <td>Sujeto perdió el control, se bañó en combustib...</td>\n",
       "      <td>['Amores que pueden matar. El obrero James Mar...</td>\n",
       "      <td>Nacional</td>\n",
       "      <td>2018-12-30 21:40:00</td>\n",
       "    </tr>\n",
       "    <tr>\n",
       "      <th>3</th>\n",
       "      <td>Penales de Perú se mantendrán en estado de eme...</td>\n",
       "      <td>Redacción Trome</td>\n",
       "      <td>El Sistema Nacional Penitenciario atraviesa un...</td>\n",
       "      <td>['El gobierno prorrogó, por única vez, la decl...</td>\n",
       "      <td>Actualidad</td>\n",
       "      <td>2018-12-30 21:24:00</td>\n",
       "    </tr>\n",
       "    <tr>\n",
       "      <th>4</th>\n",
       "      <td>San Martín de Porres: Diez extranjeros masacra...</td>\n",
       "      <td>Redacción Trome</td>\n",
       "      <td>Un grupo de venezolanos agarraron a golpes y p...</td>\n",
       "      <td>['Un hombre de 50 años que pidió a un grupo de...</td>\n",
       "      <td>Actualidad</td>\n",
       "      <td>2018-12-30 21:18:00</td>\n",
       "    </tr>\n",
       "  </tbody>\n",
       "</table>\n",
       "</div>"
      ],
      "text/plain": [
       "                                              Titulo               Autor  \\\n",
       "0  Angie Jibaja estalló en llanto y mandó un mens...   Redacción Trome     \n",
       "1  Huacho: Venezolana fue tomada como rehén duran...   Redacción Trome     \n",
       "2  Arequipa: Obrero se prende fuego delante de no...  Regionales Trome     \n",
       "3  Penales de Perú se mantendrán en estado de eme...   Redacción Trome     \n",
       "4  San Martín de Porres: Diez extranjeros masacra...   Redacción Trome     \n",
       "\n",
       "                                             Resumen  \\\n",
       "0   Angie Jibaja  sorprendió a sus seguidores con...   \n",
       "1  Una mesera venezolana vivió minutos de terror ...   \n",
       "2  Sujeto perdió el control, se bañó en combustib...   \n",
       "3  El Sistema Nacional Penitenciario atraviesa un...   \n",
       "4  Un grupo de venezolanos agarraron a golpes y p...   \n",
       "\n",
       "                                           Contenido      Categoria  \\\n",
       "0  [' Angie Jibaja  preocupa a todos. La modelo h...  Espectaculos    \n",
       "1  ['Casi no la cuenta. Una mesera venezolana viv...    Actualidad    \n",
       "2  ['Amores que pueden matar. El obrero James Mar...      Nacional    \n",
       "3  ['El gobierno prorrogó, por única vez, la decl...    Actualidad    \n",
       "4  ['Un hombre de 50 años que pidió a un grupo de...    Actualidad    \n",
       "\n",
       "                 Fecha  \n",
       "0  2018-12-30 23:35:00  \n",
       "1  2018-12-30 22:18:00  \n",
       "2  2018-12-30 21:40:00  \n",
       "3  2018-12-30 21:24:00  \n",
       "4  2018-12-30 21:18:00  "
      ]
     },
     "execution_count": 14,
     "metadata": {},
     "output_type": "execute_result"
    }
   ],
   "source": [
    "df2.head()"
   ]
  },
  {
   "cell_type": "code",
   "execution_count": 15,
   "metadata": {},
   "outputs": [
    {
     "data": {
      "text/plain": [
       "16697"
      ]
     },
     "execution_count": 15,
     "metadata": {},
     "output_type": "execute_result"
    }
   ],
   "source": [
    "len(df1)"
   ]
  },
  {
   "cell_type": "code",
   "execution_count": 16,
   "metadata": {},
   "outputs": [
    {
     "data": {
      "text/plain": [
       "5273"
      ]
     },
     "execution_count": 16,
     "metadata": {},
     "output_type": "execute_result"
    }
   ],
   "source": [
    "len(df2)"
   ]
  },
  {
   "cell_type": "code",
   "execution_count": 17,
   "metadata": {},
   "outputs": [],
   "source": [
    "result = df1.append(df2)"
   ]
  },
  {
   "cell_type": "code",
   "execution_count": 18,
   "metadata": {},
   "outputs": [
    {
     "data": {
      "text/plain": [
       "21970"
      ]
     },
     "execution_count": 18,
     "metadata": {},
     "output_type": "execute_result"
    }
   ],
   "source": [
    "len(result)"
   ]
  },
  {
   "cell_type": "code",
   "execution_count": 19,
   "metadata": {},
   "outputs": [],
   "source": [
    "result.to_csv('el_trome_1y_srap.csv',encoding='utf_8')"
   ]
  }
 ],
 "metadata": {
  "kernelspec": {
   "display_name": "Python 3",
   "language": "python",
   "name": "python3"
  },
  "language_info": {
   "codemirror_mode": {
    "name": "ipython",
    "version": 3
   },
   "file_extension": ".py",
   "mimetype": "text/x-python",
   "name": "python",
   "nbconvert_exporter": "python",
   "pygments_lexer": "ipython3",
   "version": "3.7.0"
  }
 },
 "nbformat": 4,
 "nbformat_minor": 2
}
