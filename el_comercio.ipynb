{
 "cells": [
  {
   "cell_type": "code",
   "execution_count": null,
   "metadata": {},
   "outputs": [],
   "source": [
    "from bs4 import BeautifulSoup\n",
    "import base64\n",
    "import wget\n",
    "import requests\n",
    "import unicodecsv as csv"
   ]
  },
  {
   "cell_type": "code",
   "execution_count": null,
   "metadata": {},
   "outputs": [],
   "source": [
    "#URL inicial\n",
    "url = 'https://elcomercio.pe/archivo/todas/2019-09-12'"
   ]
  },
  {
   "cell_type": "code",
   "execution_count": null,
   "metadata": {},
   "outputs": [],
   "source": [
    "# Obtener Links\n",
    "content = requests.get(url).content"
   ]
  },
  {
   "cell_type": "code",
   "execution_count": null,
   "metadata": {},
   "outputs": [],
   "source": [
    "soup = BeautifulSoup(content,'lxml') # choose lxml parser"
   ]
  },
  {
   "cell_type": "code",
   "execution_count": null,
   "metadata": {},
   "outputs": [],
   "source": [
    "# Ubicar tags : <div class=\"toc\">\n",
    "articles = soup.findAll('article', {'class' : 'section-flow'}) # id=\"toc\" also works"
   ]
  },
  {
   "cell_type": "code",
   "execution_count": null,
   "metadata": {},
   "outputs": [],
   "source": [
    "total_articles = []\n",
    "cont = 0\n",
    "for article in articles:\n",
    "    url_article = 'https://elcomercio.pe' + article.find('a', {'class': 'page-link'})['href']\n",
    "    content_article = requests.get(url_article).content\n",
    "    soup_article = BeautifulSoup(content_article,'lxml')\n",
    "    \n",
    "    title = soup_article.find('h1', {'class': 'news-title'}).text\n",
    "    summary = soup_article.find('h2', {'class': 'news-summary'}).text\n",
    "    category = soup_article.find('h3', {'class': 'news-category fija'}).find('a').text\n",
    "    author = soup_article.find('div', {'class': 'news-author-date'}).find('a').find('span').text\n",
    "    date = soup_article.find('div', {'class': 'news-author-date'}).find('time')['datetime']\n",
    "    text_content = soup_article.find('div', {'class': 'news-text-content'}).findAll('p', {'class': 'parrafo'})\n",
    "    content_article = []\n",
    "    for text in text_content:    \n",
    "        content_article.append(text.text)\n",
    "    \n",
    "    tags_article = soup_article.findAll('h2', {'class': 'tags-item'})\n",
    "    tags = []\n",
    "    for tag in tags_article:\n",
    "        tags.append(tag.text)\n",
    "        \n",
    "    total_articles.extend([\n",
    "        {\n",
    "            'Titulo':str(title), \n",
    "            'Resumen': str(summary), \n",
    "            'Categoria':str(category), \n",
    "            'Autor':str(author),\n",
    "            'Fecha':str(date),\n",
    "            'Contenido':str(content_article),\n",
    "            'Etiquetas':str(tags)\n",
    "        }\n",
    "    ])\n",
    "    with open('el_comercio.csv', 'wb') as f:\n",
    "            dict_writer = csv.DictWriter(f,['Titulo','Resumen','Categoria', 'Autor', 'Fecha', 'Contenido', 'Etiquetas'],encoding='utf-8')\n",
    "            dict_writer.writeheader()\n",
    "            dict_writer.writerows(total_articles)\n",
    "    \n",
    "    cont = cont + 1\n",
    "    \n",
    "    print('---------------------------------------------------------------  ' + str(cont*len(articles)/100) + \"%\")"
   ]
  },
  {
   "cell_type": "code",
   "execution_count": null,
   "metadata": {},
   "outputs": [],
   "source": []
  }
 ],
 "metadata": {
  "kernelspec": {
   "display_name": "Python 3",
   "language": "python",
   "name": "python3"
  },
  "language_info": {
   "codemirror_mode": {
    "name": "ipython",
    "version": 3
   },
   "file_extension": ".py",
   "mimetype": "text/x-python",
   "name": "python",
   "nbconvert_exporter": "python",
   "pygments_lexer": "ipython3",
   "version": "3.7.1"
  }
 },
 "nbformat": 4,
 "nbformat_minor": 2
}
