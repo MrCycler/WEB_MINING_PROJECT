{
 "cells": [
  {
   "cell_type": "code",
   "execution_count": 1,
   "metadata": {},
   "outputs": [
    {
     "name": "stdout",
     "output_type": "stream",
     "text": [
      "hola Hugo\n"
     ]
    }
   ],
   "source": [
    "import libreria \n",
    "import pandas as pd\n",
    "libreria.print_hola('Hugo')"
   ]
  },
  {
   "cell_type": "code",
   "execution_count": 2,
   "metadata": {},
   "outputs": [
    {
     "name": "stdout",
     "output_type": "stream",
     "text": [
      "                                              Titulo              Autor  \\\n",
      "0  Michelle Soifer no puede más y llora por decla...  Redacción Trome     \n",
      "1  Universitario: Mira aquí el GOL de Hohberg par...  Redacción Trome     \n",
      "2  San Marcos: estudiantes levantaron toma de la ...  Redacción Trome     \n",
      "3  Ladrones se llevaron artefactos valorizados en...  Redacción Trome     \n",
      "4  \"Por gente como tú, nos miran mal\": Venezolano...  Redacción Trome     \n",
      "5  Magaly Medina se transformó en 'Barbie humana'...  Redacción Trome     \n",
      "6  Rihanna publica sexy foto y Chris Brown dejó u...  Redacción Trome     \n",
      "\n",
      "                                             Resumen  \\\n",
      "0  La cantante se mostró muy incómoda por todo lo...   \n",
      "1  El volante de Universitario, Alejandro Hohberg...   \n",
      "2  Los estudiantes de San Marcos señalaron que es...   \n",
      "3  Gladys Lluén, madre de la universitaria, indic...   \n",
      "4  El ladrón había intentado robarle con un arma ...   \n",
      "5  Magaly Medina mostró todo el proceso de su met...   \n",
      "6  En 2009, Chris Brown fue detenido y declarado ...   \n",
      "\n",
      "                                           Contenido      Categoria  \\\n",
      "0  [' Michelle Soifer  rompió su silencio poco an...  Espectaculos    \n",
      "1  [\" Universitario logró el 1-0 frente a Sport H...      Deportes    \n",
      "2  ['Los estudiantes de la Universidad Nacional M...    Actualidad    \n",
      "3  ['¡SE PASARON! Delincuentes ingresaron a una v...    Actualidad    \n",
      "4  ['Unvenezolano,  quien sufrió el asalto de su ...    Actualidad    \n",
      "5  [\"¡ES OTRA! La conductora Magaly Medina   se p...  Espectaculos    \n",
      "6  [\"Además de sus presentaciones y su día a día,...   Celebrities    \n",
      "\n",
      "                 Fecha  \n",
      "0  2019-09-21 22:09:00  \n",
      "1  2019-09-21 21:54:00  \n",
      "2  2019-09-21 21:40:00  \n",
      "3  2019-09-21 21:25:00  \n",
      "4  2019-09-21 20:58:00  \n",
      "5  2019-09-21 20:50:00  \n",
      "6  2019-09-21 20:30:00  \n"
     ]
    }
   ],
   "source": [
    "libreria.limpiar_csv('scrap.csv')"
   ]
  },
  {
   "cell_type": "code",
   "execution_count": null,
   "metadata": {},
   "outputs": [],
   "source": [
    "df_articulos = pd.read_csv('scrap.csv')"
   ]
  }
 ],
 "metadata": {
  "kernelspec": {
   "display_name": "Python 3",
   "language": "python",
   "name": "python3"
  },
  "language_info": {
   "codemirror_mode": {
    "name": "ipython",
    "version": 3
   },
   "file_extension": ".py",
   "mimetype": "text/x-python",
   "name": "python",
   "nbconvert_exporter": "python",
   "pygments_lexer": "ipython3",
   "version": "3.7.0"
  }
 },
 "nbformat": 4,
 "nbformat_minor": 2
}
