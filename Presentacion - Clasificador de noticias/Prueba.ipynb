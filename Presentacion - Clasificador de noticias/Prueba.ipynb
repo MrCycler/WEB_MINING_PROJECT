{
 "cells": [
  {
   "cell_type": "code",
   "execution_count": 1,
   "metadata": {
    "scrolled": true
   },
   "outputs": [],
   "source": [
    "import libreria \n",
    "import clean_scripts\n",
    "import pandas as pd"
   ]
  },
  {
   "cell_type": "code",
   "execution_count": 2,
   "metadata": {},
   "outputs": [
    {
     "name": "stdout",
     "output_type": "stream",
     "text": [
      "------------------------------------------------------------------------------------------------------------\n",
      "Noticias obtenidas despues del scrapping:\n",
      "------------------------------------------------------------------------------------------------------------\n",
      "*Noticia Nº 0\n",
      "------------------------------------------------------------------------------------------------------------\n",
      "*Titulo: Michelle Soifer no puede más y llora por declaraciones de Kevin Blow en El Valor de la Verdad\n",
      "*Autor: Redacción Trome  \n",
      "*Contenido: [' Michelle Soifer  rompió su silencio poco antes de la emisión de la edición de  El Valor de la Verdad  en la que su expareja Kevin Blow  revela detalles de su vida íntima y de la relación que ambos mantuvieron. La cantante se mostró muy incómoda por todo lo que venía sucediendo tras las declaraciones del dominicano. ', 'Durante su participación en El Artista del año,  Michelle Soifer rompió su silencio y dijo sentirse muy confundida por toda la semana que vivió en la que fue protagonista de muchos titulares a raíz de las declaraciones de Kevin Blow.', 'Como se recuerda,  Kevin Blow reveló que Michelle Soifer le fue infiel y que tuvo coqueteos con Jefferson Farfán y con el cantante Josimar. La cantante no pudo más y habló en el programa de Gisela Valcárcel, donde concursa.', ' \"Estoy confundida, triste y un poco molesta conmigo, con mucha gente. Me duele mucho todo lo que sucede. No puedo ocultarlo. No creo que nadie haya una persona que en su presente no hay cometido un error\", empezó Michelle Soifer su discurso.', ' \"Considero que soy una dama y las experiencias que he vivido, las dejo ahí. Quizá más adelante comprendan muchas cosas que me han sucedido\", agregó la cantante.', ' \"Muchos ven a Michelle la artista, es lo que quiero entregarles, mi música, no por eso tengo que dar detalles de las cosas que haga o deje de hacer en cuatro paredes\", puntualizó.']\n",
      "*Categoría: Espectaculos \n",
      "*Fecha: 2019-09-21 22:09:00\n",
      "------------------------------------------------------------------------------------------------------------\n",
      "*Noticia Nº 1\n",
      "------------------------------------------------------------------------------------------------------------\n",
      "*Titulo: Universitario: Mira aquí el GOL de Hohberg para el 1-0 frente a Sport Huancayo por Liga 1 [VIDEO]\n",
      "*Autor: Redacción Trome  \n",
      "*Contenido: [\" Universitario logró el 1-0 frente a Sport Huancayo  en el Estadio Huancayo por la fecha 8 del Torneo Clausura de Liga 1. Esto con gol de penal del volante  Alejandro Hohberg. Mira el video. ¡Locura total!Ocurrió a los 87' de la parte final. El árbitro del encuentro cobró penal a favor de Universitario y\\xa0 Alejandro Hohberg tomó la pelota para macar el primero. Alejandro Hohberg remató y la puso a un costado del portero de Sport Huancayo. Aquí las imágenes del tanto crema en condición de visita.\", 'Alejandro Hohberg puso así el 1-0 de Universitario ante\\xa0a Sport Huancayo en el Estadio Huancayo por la fecha 8 del Torneo Clausura de Liga 1.']\n",
      "*Categoría: Deportes \n",
      "*Fecha: 2019-09-21 21:54:00\n",
      "------------------------------------------------------------------------------------------------------------\n",
      "*Noticia Nº 2\n",
      "------------------------------------------------------------------------------------------------------------\n",
      "*Titulo: San Marcos: estudiantes levantaron toma de la universidad después de cuatro días | FOTOS\n",
      "*Autor: Redacción Trome  \n",
      "*Contenido: ['Los estudiantes de la Universidad Nacional Mayor de San Marcos (UNMSM)   anunciaron este sábado por la noche que levantarán la toma de la casa de estudios luego de sostener una mesa de diálogo el viernes con\\xa0el Ministerio de Educación (Minedu), la Defensoría del Pueblo y el rector de la universidad, Orestes Cachay.\\xa0 ', 'Después de cuatro días, la dirigente estudiantil Valeria Román señaló que se mantendrán \"vigilantes\" a fin de que el rector cumpla con los compromisos pactados y \"otro tipo de problemáticas que puedan surgir\".\\xa0 ', '\"Nosotros estaremos haciendo entrega de la ciudad universitaria el día de hoy. Suspendemos el cierrapuertas de la universidad, pero no crean que está normalizado en el sentido de que los estudiantes vamos a retomar las clases como si nada, todavía nos queda mucho por delante\",  sostuvo Román a Canal N.\\xa0', 'Además, indicó que se fortalecerán \"como movimiento estudiantil yendo no solamente contra las políticas del rector, sino del Estado en general con respecto a la educación pública\".\\xa0 ', 'Los estudiantes de la UNMSM tomaron el campus de la casa de estudios en rechazo a la obra vial del by-pass de la Av. Venezuela y Av. Universitaria.\\xa0 ', 'En la reunión del viernes,\\xa0se acordó no recortar terrenos de la universidad para la construcción del cerco perimétrico y el intercambio vial. ']\n",
      "*Categoría: Actualidad \n",
      "*Fecha: 2019-09-21 21:40:00\n"
     ]
    }
   ],
   "source": [
    "libreria.scrap_news('scrap.csv')"
   ]
  },
  {
   "cell_type": "code",
   "execution_count": 3,
   "metadata": {},
   "outputs": [
    {
     "name": "stdout",
     "output_type": "stream",
     "text": [
      "[nltk_data] Downloading package stopwords to\n",
      "[nltk_data]     C:\\Users\\pc\\AppData\\Roaming\\nltk_data...\n",
      "[nltk_data]   Package stopwords is already up-to-date!\n",
      "------------------------------------------------------------------------------------------------------------\n",
      "Noticias obtenidas despues de la limpieza:\n",
      "------------------------------------------------------------------------------------------------------------\n",
      "*Noticia Nº 0\n",
      "------------------------------------------------------------------------------------------------------------\n",
      "*Titulo: michelle soifer llora declaraciones kevin blow\n",
      "*Autor: redacción trome\n",
      "*Contenido: michelle soifer rompió silencio emisión edición expareja kevin blow revela detalles vida íntima relación mantuvieron cantante mostró incómoda venía sucediendo declaraciones dominicano participación artista año michelle soifer rompió silencio sentirse confundida semana vivió protagonista titulares raíz declaraciones kevin blow recuerda kevin blow reveló michelle soifer infiel coqueteos jefferson farfán cantante josimar cantante habló programa gisela valcárcel concursa confundida triste molesta conmigo gente duele sucede ocultarlo persona presente cometido error empezó michelle soifer discurso considero dama experiencias vivido dejo quizá comprendan sucedido cantante ven michelle artista quiero entregarles música detalles haga deje paredes puntualizó\n",
      "*Categoría: espectaculos\n",
      "*Fecha: 2019-09-21 22:09:00\n",
      "------------------------------------------------------------------------------------------------------------\n",
      "*Noticia Nº 1\n",
      "------------------------------------------------------------------------------------------------------------\n",
      "*Titulo: universitario mira gol hohberg 10 frente sport huancayo liga 1 video\n",
      "*Autor: redacción trome\n",
      "*Contenido: universitario logró 10 frente sport huancayo estadio huancayo fecha 8 torneo clausura liga 1 gol penal volante alejandro hohberg mira video locura totalocurrió 87 final árbitro encuentro cobró penal favor universitario y  alejandro hohberg tomó pelota macar alejandro hohberg remató puso costado portero sport huancayo imágenes crema condición visita alejandro hohberg puso 10 universitario ante a sport huancayo estadio huancayo fecha 8 torneo clausura liga 1\n",
      "*Categoría: deportes\n",
      "*Fecha: 2019-09-21 21:54:00\n",
      "------------------------------------------------------------------------------------------------------------\n",
      "*Noticia Nº 2\n",
      "------------------------------------------------------------------------------------------------------------\n",
      "*Titulo: san marcos estudiantes levantaron toma universidad días fotos\n",
      "*Autor: redacción trome\n",
      "*Contenido: estudiantes universidad nacional san marcos unmsm anunciaron sábado noche levantarán toma casa estudios sostener mesa diálogo viernes con el ministerio educación minedu defensoría pueblo rector universidad orestes cachay  días dirigente estudiantil valeria román mantendrán vigilantes rector cumpla compromisos pactados tipo problemáticas puedan surgir  entrega ciudad universitaria día suspendemos cierrapuertas universidad crean normalizado estudiantes retomar clases queda delante sostuvo román canal n  fortalecerán movimiento estudiantil yendo políticas rector general educación pública  estudiantes unmsm tomaron campus casa estudios rechazo obra vial bypass av venezuela av universitaria  reunión viernes se acordó recortar terrenos universidad construcción cerco perimétrico intercambio vial\n",
      "*Categoría: actualidad\n",
      "*Fecha: 2019-09-21 21:40:00\n"
     ]
    }
   ],
   "source": [
    "clean_scripts.limpiar_csv('scrap.csv')"
   ]
  },
  {
   "cell_type": "code",
   "execution_count": 4,
   "metadata": {},
   "outputs": [
    {
     "data": {
      "text/plain": [
       "'general educación pública estudiantes viernesse acordó '"
      ]
     },
     "execution_count": 4,
     "metadata": {},
     "output_type": "execute_result"
    }
   ],
   "source": [
    "\"general educación públicaxa0 estudiantes viernesxa0se acordó \".replace('xa0','')"
   ]
  },
  {
   "cell_type": "code",
   "execution_count": 6,
   "metadata": {},
   "outputs": [],
   "source": [
    "Vector_caracteristicas = libreria.obtener_vector_doc('clean.csv','test.model.bin')"
   ]
  },
  {
   "cell_type": "code",
   "execution_count": 5,
   "metadata": {},
   "outputs": [
    {
     "data": {
      "text/plain": [
       "array([ 2.61722583e-02, -5.72258564e-02,  3.41772319e-01,  2.54639349e-01,\n",
       "       -2.58651901e-01, -1.55845438e-01, -1.69460019e-01,  1.63564962e-01,\n",
       "        1.41031161e-01, -5.81948737e-02,  3.13753437e-01,  3.21625453e-01,\n",
       "       -4.25602216e-04, -7.75982779e-02, -5.94471170e-02,  3.75665463e-01,\n",
       "       -1.06494703e-01, -8.31671542e-02,  2.42973412e-01,  3.69171370e-02,\n",
       "        4.06301385e-02, -3.28914035e-01,  9.12792145e-02, -3.60514617e-01,\n",
       "        1.60777315e-02, -2.12682544e-01, -2.81368458e-01,  1.19826171e-01,\n",
       "        3.25795527e-02,  6.95796782e-02, -1.80480148e-01,  8.62565272e-02,\n",
       "       -1.06264808e-01, -1.69716816e-01, -1.99744685e-01,  3.04076971e-01,\n",
       "       -1.74186485e-01, -1.90895144e-01, -2.54059505e-01,  2.14175042e-01,\n",
       "       -6.71593233e-02, -2.06079976e-01, -1.32257508e-02, -2.76954153e-01,\n",
       "       -3.16536905e-01, -8.98911467e-02,  4.17587358e-02, -1.12815520e-01,\n",
       "       -5.78907528e-02,  1.42132490e-01, -7.15245253e-02,  2.16272311e-01,\n",
       "       -2.04451841e-01,  4.68400564e-03, -3.18811385e-01,  1.46697692e-01,\n",
       "       -2.76112938e-02, -1.51390558e-01,  9.76271245e-02, -1.23771265e-02,\n",
       "        2.54243900e-01,  3.67866585e-02,  1.46132010e-01,  2.08174926e-01,\n",
       "        4.80937371e-02, -1.67705848e-02,  1.35473100e-01, -6.02720351e-02,\n",
       "       -7.85174003e-02, -1.16011032e-02,  6.48427936e-02,  9.96133774e-02,\n",
       "       -1.39681920e-01, -2.89628618e-01,  2.22395468e-01, -2.18725522e-01,\n",
       "       -1.99596202e-01, -1.99647605e-01, -8.81189647e-02, -4.62180770e-02,\n",
       "       -1.48478935e-01, -2.23345665e-01, -5.88501875e-01, -4.57076362e-02,\n",
       "        4.56498187e-01, -1.06623734e-01, -1.68434366e-01, -1.90152116e-01,\n",
       "       -4.06734050e-02, -1.03622234e-01, -2.33463514e-01,  2.68004782e-03,\n",
       "        3.52630809e-02,  2.06198492e-01, -1.24554090e-01,  1.52096547e-01,\n",
       "        7.16124743e-02, -8.48263956e-02, -7.04460148e-02, -1.16764881e-01])"
      ]
     },
     "execution_count": 5,
     "metadata": {},
     "output_type": "execute_result"
    }
   ],
   "source": []
  },
  {
   "cell_type": "code",
   "execution_count": 23,
   "metadata": {},
   "outputs": [],
   "source": []
  },
  {
   "cell_type": "code",
   "execution_count": 20,
   "metadata": {},
   "outputs": [
    {
     "data": {
      "text/html": [
       "<div>\n",
       "<style scoped>\n",
       "    .dataframe tbody tr th:only-of-type {\n",
       "        vertical-align: middle;\n",
       "    }\n",
       "\n",
       "    .dataframe tbody tr th {\n",
       "        vertical-align: top;\n",
       "    }\n",
       "\n",
       "    .dataframe thead th {\n",
       "        text-align: right;\n",
       "    }\n",
       "</style>\n",
       "<table border=\"1\" class=\"dataframe\">\n",
       "  <thead>\n",
       "    <tr style=\"text-align: right;\">\n",
       "      <th></th>\n",
       "      <th>Unnamed: 0</th>\n",
       "      <th>Titulo</th>\n",
       "      <th>Autor</th>\n",
       "      <th>Resumen</th>\n",
       "      <th>Contenido</th>\n",
       "      <th>Categoria</th>\n",
       "      <th>Fecha</th>\n",
       "    </tr>\n",
       "  </thead>\n",
       "  <tbody>\n",
       "    <tr>\n",
       "      <th>0</th>\n",
       "      <td>0</td>\n",
       "      <td>michelle soifer puede llora declaraciones kevi...</td>\n",
       "      <td>redacción trome</td>\n",
       "      <td>cantante mostró incómoda venía sucediendo tras...</td>\n",
       "      <td>michelle soifer rompió silencio emisión edició...</td>\n",
       "      <td>espectaculos</td>\n",
       "      <td>2019-09-21 22:09:00</td>\n",
       "    </tr>\n",
       "    <tr>\n",
       "      <th>1</th>\n",
       "      <td>1</td>\n",
       "      <td>universitario mira aquí gol hohberg 10 frente ...</td>\n",
       "      <td>redacción trome</td>\n",
       "      <td>volante universitario alejandro hohberg puso 1...</td>\n",
       "      <td>universitario logró 10 frente sport huancayo e...</td>\n",
       "      <td>deportes</td>\n",
       "      <td>2019-09-21 21:54:00</td>\n",
       "    </tr>\n",
       "    <tr>\n",
       "      <th>2</th>\n",
       "      <td>2</td>\n",
       "      <td>san marcos estudiantes levantaron toma univers...</td>\n",
       "      <td>redacción trome</td>\n",
       "      <td>estudiantes san marcos señalaron vigilantes au...</td>\n",
       "      <td>estudiantes universidad nacional mayor san mar...</td>\n",
       "      <td>actualidad</td>\n",
       "      <td>2019-09-21 21:40:00</td>\n",
       "    </tr>\n",
       "  </tbody>\n",
       "</table>\n",
       "</div>"
      ],
      "text/plain": [
       "   Unnamed: 0                                             Titulo  \\\n",
       "0           0  michelle soifer puede llora declaraciones kevi...   \n",
       "1           1  universitario mira aquí gol hohberg 10 frente ...   \n",
       "2           2  san marcos estudiantes levantaron toma univers...   \n",
       "\n",
       "             Autor                                            Resumen  \\\n",
       "0  redacción trome  cantante mostró incómoda venía sucediendo tras...   \n",
       "1  redacción trome  volante universitario alejandro hohberg puso 1...   \n",
       "2  redacción trome  estudiantes san marcos señalaron vigilantes au...   \n",
       "\n",
       "                                           Contenido     Categoria  \\\n",
       "0  michelle soifer rompió silencio emisión edició...  espectaculos   \n",
       "1  universitario logró 10 frente sport huancayo e...      deportes   \n",
       "2  estudiantes universidad nacional mayor san mar...    actualidad   \n",
       "\n",
       "                 Fecha  \n",
       "0  2019-09-21 22:09:00  \n",
       "1  2019-09-21 21:54:00  \n",
       "2  2019-09-21 21:40:00  "
      ]
     },
     "execution_count": 20,
     "metadata": {},
     "output_type": "execute_result"
    }
   ],
   "source": []
  },
  {
   "cell_type": "code",
   "execution_count": 24,
   "metadata": {},
   "outputs": [
    {
     "name": "stderr",
     "output_type": "stream",
     "text": [
      "E:\\INSTALACIONES\\Anaconda\\lib\\site-packages\\ipykernel_launcher.py:7: DeprecationWarning: Call to deprecated `wv` (Attribute will be removed in 4.0.0, use self instead).\n",
      "  import sys\n"
     ]
    }
   ],
   "source": []
  },
  {
   "cell_type": "code",
   "execution_count": 27,
   "metadata": {},
   "outputs": [
    {
     "data": {
      "text/plain": [
       "array([ 2.61722583e-02, -5.72258564e-02,  3.41772319e-01,  2.54639349e-01,\n",
       "       -2.58651901e-01, -1.55845438e-01, -1.69460019e-01,  1.63564962e-01,\n",
       "        1.41031161e-01, -5.81948737e-02,  3.13753437e-01,  3.21625453e-01,\n",
       "       -4.25602216e-04, -7.75982779e-02, -5.94471170e-02,  3.75665463e-01,\n",
       "       -1.06494703e-01, -8.31671542e-02,  2.42973412e-01,  3.69171370e-02,\n",
       "        4.06301385e-02, -3.28914035e-01,  9.12792145e-02, -3.60514617e-01,\n",
       "        1.60777315e-02, -2.12682544e-01, -2.81368458e-01,  1.19826171e-01,\n",
       "        3.25795527e-02,  6.95796782e-02, -1.80480148e-01,  8.62565272e-02,\n",
       "       -1.06264808e-01, -1.69716816e-01, -1.99744685e-01,  3.04076971e-01,\n",
       "       -1.74186485e-01, -1.90895144e-01, -2.54059505e-01,  2.14175042e-01,\n",
       "       -6.71593233e-02, -2.06079976e-01, -1.32257508e-02, -2.76954153e-01,\n",
       "       -3.16536905e-01, -8.98911467e-02,  4.17587358e-02, -1.12815520e-01,\n",
       "       -5.78907528e-02,  1.42132490e-01, -7.15245253e-02,  2.16272311e-01,\n",
       "       -2.04451841e-01,  4.68400564e-03, -3.18811385e-01,  1.46697692e-01,\n",
       "       -2.76112938e-02, -1.51390558e-01,  9.76271245e-02, -1.23771265e-02,\n",
       "        2.54243900e-01,  3.67866585e-02,  1.46132010e-01,  2.08174926e-01,\n",
       "        4.80937371e-02, -1.67705848e-02,  1.35473100e-01, -6.02720351e-02,\n",
       "       -7.85174003e-02, -1.16011032e-02,  6.48427936e-02,  9.96133774e-02,\n",
       "       -1.39681920e-01, -2.89628618e-01,  2.22395468e-01, -2.18725522e-01,\n",
       "       -1.99596202e-01, -1.99647605e-01, -8.81189647e-02, -4.62180770e-02,\n",
       "       -1.48478935e-01, -2.23345665e-01, -5.88501875e-01, -4.57076362e-02,\n",
       "        4.56498187e-01, -1.06623734e-01, -1.68434366e-01, -1.90152116e-01,\n",
       "       -4.06734050e-02, -1.03622234e-01, -2.33463514e-01,  2.68004782e-03,\n",
       "        3.52630809e-02,  2.06198492e-01, -1.24554090e-01,  1.52096547e-01,\n",
       "        7.16124743e-02, -8.48263956e-02, -7.04460148e-02, -1.16764881e-01])"
      ]
     },
     "execution_count": 27,
     "metadata": {},
     "output_type": "execute_result"
    }
   ],
   "source": [
    "df_2['Vector'][0]"
   ]
  }
 ],
 "metadata": {
  "kernelspec": {
   "display_name": "Python 3",
   "language": "python",
   "name": "python3"
  },
  "language_info": {
   "codemirror_mode": {
    "name": "ipython",
    "version": 3
   },
   "file_extension": ".py",
   "mimetype": "text/x-python",
   "name": "python",
   "nbconvert_exporter": "python",
   "pygments_lexer": "ipython3",
   "version": "3.7.0"
  }
 },
 "nbformat": 4,
 "nbformat_minor": 2
}
