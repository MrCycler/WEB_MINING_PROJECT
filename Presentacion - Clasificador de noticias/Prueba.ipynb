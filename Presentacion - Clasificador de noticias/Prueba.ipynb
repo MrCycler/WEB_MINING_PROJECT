{
 "cells": [
  {
   "cell_type": "code",
   "execution_count": 8,
   "metadata": {},
   "outputs": [],
   "source": [
    "import libreria "
   ]
  },
  {
   "cell_type": "code",
   "execution_count": 9,
   "metadata": {},
   "outputs": [
    {
     "name": "stdout",
     "output_type": "stream",
     "text": [
      "------------------------------------------------------------------------------------------------------------\n",
      "Noticias obtenidas despues del scrapping:\n",
      "------------------------------------------------------------------------------------------------------------\n",
      "*Noticia Nº 0\n",
      "------------------------------------------------------------------------------------------------------------\n",
      "*Titulo: Michelle Soifer no puede más y llora por declaraciones de Kevin Blow en El Valor de la Verdad\n",
      "*Autor: Redacción Trome  \n",
      "*Contenido: [' Michelle Soifer  rompió su silencio poco antes de la emisión de la edición de  El Valor de la Verdad  en la que su expareja Kevin Blow  revela detalles de su vida íntima y de la relación que ambos mantuvieron. La cantante se mostró muy incómoda por todo lo que venía sucediendo tras las declaraciones del dominicano. ', 'Durante su participación en El Artista del año,  Michelle Soifer rompió su silencio y dijo sentirse muy confundida por toda la semana que vivió en la que fue protagonista de muchos titulares a raíz de las declaraciones de Kevin Blow.', 'Como se recuerda,  Kevin Blow reveló que Michelle Soifer le fue infiel y que tuvo coqueteos con Jefferson Farfán y con el cantante Josimar. La cantante no pudo más y habló en el programa de Gisela Valcárcel, donde concursa.', ' \"Estoy confundida, triste y un poco molesta conmigo, con mucha gente. Me duele mucho todo lo que sucede. No puedo ocultarlo. No creo que nadie haya una persona que en su presente no hay cometido un error\", empezó Michelle Soifer su discurso.', ' \"Considero que soy una dama y las experiencias que he vivido, las dejo ahí. Quizá más adelante comprendan muchas cosas que me han sucedido\", agregó la cantante.', ' \"Muchos ven a Michelle la artista, es lo que quiero entregarles, mi música, no por eso tengo que dar detalles de las cosas que haga o deje de hacer en cuatro paredes\", puntualizó.']\n",
      "*Categoría: Espectaculos \n",
      "*Fecha: 2019-09-21 22:09:00\n",
      "------------------------------------------------------------------------------------------------------------\n",
      "*Noticia Nº 1\n",
      "------------------------------------------------------------------------------------------------------------\n",
      "*Titulo: Universitario: Mira aquí el GOL de Hohberg para el 1-0 frente a Sport Huancayo por Liga 1 [VIDEO]\n",
      "*Autor: Redacción Trome  \n",
      "*Contenido: [\" Universitario logró el 1-0 frente a Sport Huancayo  en el Estadio Huancayo por la fecha 8 del Torneo Clausura de Liga 1. Esto con gol de penal del volante  Alejandro Hohberg. Mira el video. ¡Locura total!Ocurrió a los 87' de la parte final. El árbitro del encuentro cobró penal a favor de Universitario y\\xa0 Alejandro Hohberg tomó la pelota para macar el primero. Alejandro Hohberg remató y la puso a un costado del portero de Sport Huancayo. Aquí las imágenes del tanto crema en condición de visita.\", 'Alejandro Hohberg puso así el 1-0 de Universitario ante\\xa0a Sport Huancayo en el Estadio Huancayo por la fecha 8 del Torneo Clausura de Liga 1.']\n",
      "*Categoría: Deportes \n",
      "*Fecha: 2019-09-21 21:54:00\n",
      "------------------------------------------------------------------------------------------------------------\n",
      "*Noticia Nº 2\n",
      "------------------------------------------------------------------------------------------------------------\n",
      "*Titulo: San Marcos: estudiantes levantaron toma de la universidad después de cuatro días | FOTOS\n",
      "*Autor: Redacción Trome  \n",
      "*Contenido: ['Los estudiantes de la Universidad Nacional Mayor de San Marcos (UNMSM)   anunciaron este sábado por la noche que levantarán la toma de la casa de estudios luego de sostener una mesa de diálogo el viernes con\\xa0el Ministerio de Educación (Minedu), la Defensoría del Pueblo y el rector de la universidad, Orestes Cachay.\\xa0 ', 'Después de cuatro días, la dirigente estudiantil Valeria Román señaló que se mantendrán \"vigilantes\" a fin de que el rector cumpla con los compromisos pactados y \"otro tipo de problemáticas que puedan surgir\".\\xa0 ', '\"Nosotros estaremos haciendo entrega de la ciudad universitaria el día de hoy. Suspendemos el cierrapuertas de la universidad, pero no crean que está normalizado en el sentido de que los estudiantes vamos a retomar las clases como si nada, todavía nos queda mucho por delante\",  sostuvo Román a Canal N.\\xa0', 'Además, indicó que se fortalecerán \"como movimiento estudiantil yendo no solamente contra las políticas del rector, sino del Estado en general con respecto a la educación pública\".\\xa0 ', 'Los estudiantes de la UNMSM tomaron el campus de la casa de estudios en rechazo a la obra vial del by-pass de la Av. Venezuela y Av. Universitaria.\\xa0 ', 'En la reunión del viernes,\\xa0se acordó no recortar terrenos de la universidad para la construcción del cerco perimétrico y el intercambio vial. ']\n",
      "*Categoría: Actualidad \n",
      "*Fecha: 2019-09-21 21:40:00\n"
     ]
    }
   ],
   "source": [
    "libreria.scrap_news('scrap.csv')"
   ]
  },
  {
   "cell_type": "code",
   "execution_count": 10,
   "metadata": {},
   "outputs": [
    {
     "name": "stdout",
     "output_type": "stream",
     "text": [
      "[nltk_data] Downloading package stopwords to\n",
      "[nltk_data]     C:\\Users\\pc\\AppData\\Roaming\\nltk_data...\n",
      "[nltk_data]   Package stopwords is already up-to-date!\n",
      "------------------------------------------------------------------------------------------------------------\n",
      "Noticias obtenidas despues de la limpieza:\n",
      "------------------------------------------------------------------------------------------------------------\n",
      "*Noticia Nº 0\n",
      "------------------------------------------------------------------------------------------------------------\n",
      "*Titulo: michelle soifer puede llora declaraciones kevin blow valor verdad\n",
      "*Autor: redacción trome\n",
      "*Contenido: michelle soifer rompió silencio emisión edición valor verdad expareja kevin blow revela detalles vida íntima relación ambos mantuvieron cantante mostró incómoda venía sucediendo tras declaraciones dominicano participación artista año michelle soifer rompió silencio dijo sentirse confundida toda semana vivió protagonista titulares raíz declaraciones kevin blow recuerda kevin blow reveló michelle soifer infiel coqueteos jefferson farfán cantante josimar cantante pudo habló programa gisela valcárcel concursa confundida triste molesta conmigo mucha gente duele sucede puedo ocultarlo creo nadie persona presente cometido error empezó michelle soifer discurso considero dama experiencias vivido dejo ahí quizá adelante comprendan muchas cosas sucedido agregó cantante ven michelle artista quiero entregarles música dar detalles cosas haga deje hacer cuatro paredes puntualizó\n",
      "*Categoría: espectaculos\n",
      "*Fecha: 2019-09-21 22:09:00\n",
      "------------------------------------------------------------------------------------------------------------\n",
      "*Noticia Nº 1\n",
      "------------------------------------------------------------------------------------------------------------\n",
      "*Titulo: universitario mira aquí gol hohberg 10 frente sport huancayo liga 1 video\n",
      "*Autor: redacción trome\n",
      "*Contenido: universitario logró 10 frente sport huancayo estadio huancayo fecha 8 torneo clausura liga 1 gol penal volante alejandro hohberg mira video locura totalocurrió 87 parte final árbitro encuentro cobró penal favor universitario yxa0 alejandro hohberg tomó pelota macar primero alejandro hohberg remató puso costado portero sport huancayo aquí imágenes crema condición visita alejandro hohberg puso así 10 universitario antexa0a sport huancayo estadio huancayo fecha 8 torneo clausura liga 1\n",
      "*Categoría: deportes\n",
      "*Fecha: 2019-09-21 21:54:00\n",
      "------------------------------------------------------------------------------------------------------------\n",
      "*Noticia Nº 2\n",
      "------------------------------------------------------------------------------------------------------------\n",
      "*Titulo: san marcos estudiantes levantaron toma universidad después cuatro días fotos\n",
      "*Autor: redacción trome\n",
      "*Contenido: estudiantes universidad nacional mayor san marcos unmsm anunciaron sábado noche levantarán toma casa estudios luego sostener mesa diálogo viernes conxa0el ministerio educación minedu defensoría pueblo rector universidad orestes cachayxa0 después cuatro días dirigente estudiantil valeria román señaló mantendrán vigilantes fin rector cumpla compromisos pactados tipo problemáticas puedan surgirxa0 haciendo entrega ciudad universitaria día hoy suspendemos cierrapuertas universidad crean normalizado estudiantes vamos retomar clases si todavía queda delante sostuvo román canal nxa0 además indicó fortalecerán movimiento estudiantil yendo solamente políticas rector sino general respecto educación públicaxa0 estudiantes unmsm tomaron campus casa estudios rechazo obra vial bypass av venezuela av universitariaxa0 reunión viernesxa0se acordó recortar terrenos universidad construcción cerco perimétrico intercambio vial\n",
      "*Categoría: actualidad\n",
      "*Fecha: 2019-09-21 21:40:00\n"
     ]
    }
   ],
   "source": [
    "libreria.limpiar_csv('scrap.csv')"
   ]
  },
  {
   "cell_type": "code",
   "execution_count": 7,
   "metadata": {},
   "outputs": [
    {
     "name": "stdout",
     "output_type": "stream",
     "text": [
      "gaa\n"
     ]
    }
   ],
   "source": []
  },
  {
   "cell_type": "code",
   "execution_count": 34,
   "metadata": {},
   "outputs": [],
   "source": []
  },
  {
   "cell_type": "code",
   "execution_count": null,
   "metadata": {},
   "outputs": [],
   "source": []
  }
 ],
 "metadata": {
  "kernelspec": {
   "display_name": "Python 3",
   "language": "python",
   "name": "python3"
  },
  "language_info": {
   "codemirror_mode": {
    "name": "ipython",
    "version": 3
   },
   "file_extension": ".py",
   "mimetype": "text/x-python",
   "name": "python",
   "nbconvert_exporter": "python",
   "pygments_lexer": "ipython3",
   "version": "3.7.0"
  }
 },
 "nbformat": 4,
 "nbformat_minor": 2
}
